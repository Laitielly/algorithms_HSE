{
 "cells": [
  {
   "cell_type": "markdown",
   "id": "f258f867",
   "metadata": {},
   "source": [
    "# Лабораторная работа №5\n",
    "### Выполнили Антонов Илья Витальевич и Сидорова Анна Павловна, 20ПМИ-2\n",
    "\n",
    "В таблице показана используемая метрика - $\\dfrac{n_1 - n_1^{\\text{out}}}{n_1 + n_0^{\\text{in}}}$."
   ]
  },
  {
   "cell_type": "code",
   "execution_count": 1,
   "id": "1116b678",
   "metadata": {},
   "outputs": [
    {
     "name": "stdout",
     "output_type": "stream",
     "text": [
      "In 37x53.txt:\n",
      "Cluster of machines 1, 3, 4, 7, 9, 10, 22, 24, 27, 28, 30, 32 makes details 26, 27, 28, 30, 31, 32, 33, 34, 35, 36, 37, 38, 39, 29, 50, 46, 49\n",
      "Cluster of machines 8, 11, 13, 14, 15, 17, 18, 19, 20, 21, 23, 26, 31, 33, 35 makes details 4, 7, 10, 11, 12, 13, 14, 15, 16, 17, 18, 19, 20, 21, 22, 23, 41, 42, 44, 45, 3, 6, 2, 43, 8, 9, 24, 25, 5, 1, 47, 48, 51, 53, 52\n",
      "Cluster of machines 2, 5, 6, 12, 16, 25, 29, 34, 36, 37 makes details 40\n",
      "\n",
      "In 24x40.txt:\n",
      "Cluster of machines 17 makes details 7, 17, 20, 29, 31\n",
      "Cluster of machines 7, 20, 24 makes details 2, 25, 32\n",
      "Cluster of machines 5, 11 makes details 10, 22, 35\n",
      "Cluster of machines 15 makes details 5, 1\n",
      "Cluster of machines 13, 23 makes details 3, 21, 12\n",
      "Cluster of machines 6, 8 makes details 26, 38, 30\n",
      "Cluster of machines 2, 19 makes details 13, 14, 40\n",
      "Cluster of machines 4, 14 makes details 8, 11, 28\n",
      "Cluster of machines 22 makes details 16\n",
      "Cluster of machines 16 makes details 19, 37, 36, 39\n",
      "Cluster of machines 3 makes details 15, 23, 24, 34\n",
      "Cluster of machines 12, 18 makes details 18, 27, 4\n",
      "Cluster of machines 1, 9, 10, 21 makes details 9, 33, 6\n",
      "\n",
      "In 20x20.txt:\n",
      "Cluster of machines 12, 13 makes details 11, 17, 2, 18, 12\n",
      "Cluster of machines 2, 3, 15, 16, 17, 18 makes details 16, 3, 8, 7, 5\n",
      "Cluster of machines 5, 10, 11, 14 makes details 19, 13, 15\n",
      "Cluster of machines 1, 20 makes details 4, 1\n",
      "Cluster of machines 4, 6, 7, 8, 9, 19 makes details 6, 9, 14, 20, 10\n",
      "\n",
      "In 30x90.txt:\n",
      "Cluster of machines 11, 17, 19, 21, 24 makes details 8, 15, 21, 22, 40, 76, 73, 51, 68, 89, 90, 56, 77, 88, 64, 79\n",
      "Cluster of machines 12, 16 makes details 62, 86\n",
      "Cluster of machines 26, 27, 28 makes details 5, 11, 13, 25, 27, 31, 36, 41, 46, 49, 54, 60, 72, 84, 1, 12, 33, 61, 9, 3, 6, 7, 19, 75, 29, 43, 69\n",
      "Cluster of machines 14, 30 makes details 67, 70, 71, 45\n",
      "Cluster of machines 7, 18 makes details 26, 39, 28\n",
      "Cluster of machines 3 makes details 14, 24, 37, 44, 47, 58, 65, 66, 87, 59, 10\n",
      "Cluster of machines 5, 15, 22, 25 makes details 81, 83, 85, 20, 30\n",
      "Cluster of machines 13, 29 makes details 80, 82, 32, 53, 57\n",
      "Cluster of machines 20 makes details 2, 42, 55, 63, 78, 17, 35\n",
      "Cluster of machines 1 makes details 16, 50, 34\n",
      "Cluster of machines 2, 6, 8, 9, 10, 23 makes details 18\n",
      "Cluster of machines 4 makes details 4, 48, 52, 74, 23, 38\n",
      "\n",
      "In 30x50.txt:\n",
      "Cluster of machines 4, 6 makes details 17, 22\n",
      "Cluster of machines 15, 28 makes details 10, 18, 12, 40\n",
      "Cluster of machines 18, 20 makes details 6, 26, 27, 29, 5\n",
      "Cluster of machines 9, 11 makes details 8, 36, 41, 49\n",
      "Cluster of machines 5, 13 makes details 2, 3, 11\n",
      "Cluster of machines 10 makes details 37, 47\n",
      "Cluster of machines 2 makes details 38, 46, 19\n",
      "Cluster of machines 14 makes details 48, 20, 44, 32\n",
      "Cluster of machines 22, 24, 26, 27 makes details 13, 15, 34\n",
      "Cluster of machines 16, 23, 30 makes details 39, 21, 31, 35\n",
      "Cluster of machines 7, 17, 19 makes details 28, 30, 50\n",
      "Cluster of machines 1 makes details 43, 9\n",
      "Cluster of machines 3, 8, 25 makes details 1, 4, 16, 33, 45, 42\n",
      "Cluster of machines 12, 29 makes details 23, 24, 25\n",
      "Cluster of machines 21 makes details 7, 14\n",
      "\n"
     ]
    },
    {
     "data": {
      "text/html": [
       "<div>\n",
       "<style scoped>\n",
       "    .dataframe tbody tr th:only-of-type {\n",
       "        vertical-align: middle;\n",
       "    }\n",
       "\n",
       "    .dataframe tbody tr th {\n",
       "        vertical-align: top;\n",
       "    }\n",
       "\n",
       "    .dataframe thead th {\n",
       "        text-align: right;\n",
       "    }\n",
       "</style>\n",
       "<table border=\"1\" class=\"dataframe\">\n",
       "  <thead>\n",
       "    <tr style=\"text-align: right;\">\n",
       "      <th></th>\n",
       "      <th>37x53.txt</th>\n",
       "      <th>24x40.txt</th>\n",
       "      <th>20x20.txt</th>\n",
       "      <th>30x90.txt</th>\n",
       "      <th>30x50.txt</th>\n",
       "    </tr>\n",
       "  </thead>\n",
       "  <tbody>\n",
       "    <tr>\n",
       "      <th>Time</th>\n",
       "      <td>2296.06</td>\n",
       "      <td>201.48</td>\n",
       "      <td>31.26</td>\n",
       "      <td>2486.77</td>\n",
       "      <td>658.02</td>\n",
       "    </tr>\n",
       "    <tr>\n",
       "      <th>Metrics</th>\n",
       "      <td>0.605239</td>\n",
       "      <td>0.460432</td>\n",
       "      <td>0.427536</td>\n",
       "      <td>0.462366</td>\n",
       "      <td>0.508287</td>\n",
       "    </tr>\n",
       "  </tbody>\n",
       "</table>\n",
       "</div>"
      ],
      "text/plain": [
       "        37x53.txt 24x40.txt 20x20.txt 30x90.txt 30x50.txt\n",
       "Time      2296.06    201.48     31.26   2486.77    658.02\n",
       "Metrics  0.605239  0.460432  0.427536  0.462366  0.508287"
      ]
     },
     "execution_count": 1,
     "metadata": {},
     "output_type": "execute_result"
    }
   ],
   "source": [
    "from prepare_report import start\n",
    "\n",
    "start('benchmarks/')"
   ]
  }
 ],
 "metadata": {
  "kernelspec": {
   "display_name": "Python 3 (ipykernel)",
   "language": "python",
   "name": "python3"
  },
  "language_info": {
   "codemirror_mode": {
    "name": "ipython",
    "version": 3
   },
   "file_extension": ".py",
   "mimetype": "text/x-python",
   "name": "python",
   "nbconvert_exporter": "python",
   "pygments_lexer": "ipython3",
   "version": "3.8.10"
  }
 },
 "nbformat": 4,
 "nbformat_minor": 5
}
