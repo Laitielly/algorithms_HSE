{
 "cells": [
  {
   "cell_type": "markdown",
   "metadata": {},
   "source": [
    "# Лабораторная работа №4.\n",
    "### Выполнили Антонов Илья Витальевич и Сидорова Анна Павловна 20ПМИ-2"
   ]
  },
  {
   "cell_type": "code",
   "execution_count": 1,
   "metadata": {
    "ExecuteTime": {
     "end_time": "2023-06-13T00:09:45.689700Z",
     "start_time": "2023-06-13T00:09:45.029946Z"
    }
   },
   "outputs": [],
   "source": [
    "from data.prepare_report import *"
   ]
  },
  {
   "cell_type": "code",
   "execution_count": 2,
   "metadata": {
    "ExecuteTime": {
     "end_time": "2023-06-13T00:09:45.697839Z",
     "start_time": "2023-06-13T00:09:45.529092Z"
    }
   },
   "outputs": [],
   "source": [
    "graph = decoder_npy('data/graph.npy')\n",
    "keys = ['tai20a', 'tai40a', 'tai60a', 'tai80a', 'tai100a']\n",
    "true_targets = [703482, 3139370, 7205962, 13499184, 21052466]"
   ]
  },
  {
   "cell_type": "markdown",
   "metadata": {},
   "source": [
    "# Local search + don't look bits"
   ]
  },
  {
   "cell_type": "code",
   "execution_count": 10,
   "metadata": {
    "ExecuteTime": {
     "end_time": "2023-06-13T00:05:59.810855Z",
     "start_time": "2023-06-13T00:05:39.007621Z"
    },
    "pycharm": {
     "is_executing": true
    }
   },
   "outputs": [],
   "source": [
    "times, targets, way = get_local_search(graph, keys)"
   ]
  },
  {
   "cell_type": "code",
   "execution_count": 11,
   "metadata": {
    "ExecuteTime": {
     "end_time": "2023-06-13T00:10:05.388008Z",
     "start_time": "2023-06-13T00:09:45.599478Z"
    }
   },
   "outputs": [
    {
     "data": {
      "text/html": [
       "<div>\n",
       "<style scoped>\n",
       "    .dataframe tbody tr th:only-of-type {\n",
       "        vertical-align: middle;\n",
       "    }\n",
       "\n",
       "    .dataframe tbody tr th {\n",
       "        vertical-align: top;\n",
       "    }\n",
       "\n",
       "    .dataframe thead th {\n",
       "        text-align: right;\n",
       "    }\n",
       "</style>\n",
       "<table border=\"1\" class=\"dataframe\">\n",
       "  <thead>\n",
       "    <tr style=\"text-align: right;\">\n",
       "      <th></th>\n",
       "      <th>tai20a</th>\n",
       "      <th>tai40a</th>\n",
       "      <th>tai60a</th>\n",
       "      <th>tai80a</th>\n",
       "      <th>tai100a</th>\n",
       "    </tr>\n",
       "  </thead>\n",
       "  <tbody>\n",
       "    <tr>\n",
       "      <th>Local Search</th>\n",
       "      <td>-</td>\n",
       "      <td>-</td>\n",
       "      <td>-</td>\n",
       "      <td>-</td>\n",
       "      <td>-</td>\n",
       "    </tr>\n",
       "    <tr>\n",
       "      <th>Time</th>\n",
       "      <td>0.0366</td>\n",
       "      <td>0.354</td>\n",
       "      <td>1.229</td>\n",
       "      <td>2.6392</td>\n",
       "      <td>6.9883</td>\n",
       "    </tr>\n",
       "    <tr>\n",
       "      <th>Target</th>\n",
       "      <td>754334</td>\n",
       "      <td>3299066</td>\n",
       "      <td>7581196</td>\n",
       "      <td>14099556</td>\n",
       "      <td>21937978</td>\n",
       "    </tr>\n",
       "    <tr>\n",
       "      <th>True Target</th>\n",
       "      <td>703482</td>\n",
       "      <td>3139370</td>\n",
       "      <td>7205962</td>\n",
       "      <td>13499184</td>\n",
       "      <td>21052466</td>\n",
       "    </tr>\n",
       "  </tbody>\n",
       "</table>\n",
       "</div>"
      ],
      "text/plain": [
       "              tai20a   tai40a   tai60a    tai80a   tai100a\n",
       "Local Search       -        -        -         -         -\n",
       "Time          0.0366    0.354    1.229    2.6392    6.9883\n",
       "Target        754334  3299066  7581196  14099556  21937978\n",
       "True Target   703482  3139370  7205962  13499184  21052466"
      ]
     },
     "execution_count": 11,
     "metadata": {},
     "output_type": "execute_result"
    }
   ],
   "source": [
    "res_table_ls('Local Search', keys, times, targets, true_targets)"
   ]
  },
  {
   "cell_type": "code",
   "execution_count": 12,
   "metadata": {},
   "outputs": [
    {
     "name": "stdout",
     "output_type": "stream",
     "text": [
      "tai20a:\n",
      "16 -> 10 -> 1 -> 14 -> 19 -> 9 -> 12 -> 8 -> 4 -> 7 -> 5 -> 0 -> 11 -> 17 -> 2 -> 3 -> 18 -> 15 -> 13 -> 6 -> 16\n",
      "\n",
      "tai40a:\n",
      "36 -> 30 -> 39 -> 4 -> 19 -> 11 -> 21 -> 34 -> 18 -> 3 -> 20 -> 27 -> 14 -> 5 -> 2 -> 7 -> 6 -> 0 -> 12 -> 15 -> 16 -> 33 -> 10 -> 26 -> 1 -> 24 -> 28 -> 32 -> 25 -> 17 -> 37 -> 38 -> 29 -> 8 -> 13 -> 23 -> 31 -> 22 -> 9 -> 35 -> 36\n",
      "\n",
      "tai60a:\n",
      "36 -> 45 -> 56 -> 20 -> 54 -> 31 -> 43 -> 12 -> 46 -> 26 -> 5 -> 51 -> 48 -> 6 -> 25 -> 8 -> 13 -> 47 -> 0 -> 59 -> 16 -> 37 -> 52 -> 2 -> 41 -> 44 -> 15 -> 14 -> 29 -> 28 -> 11 -> 22 -> 38 -> 40 -> 27 -> 53 -> 3 -> 18 -> 49 -> 34 -> 39 -> 1 -> 19 -> 58 -> 10 -> 7 -> 24 -> 50 -> 17 -> 9 -> 23 -> 35 -> 4 -> 57 -> 33 -> 55 -> 21 -> 42 -> 32 -> 30 -> 36\n",
      "\n",
      "tai80a:\n",
      "56 -> 40 -> 36 -> 30 -> 54 -> 13 -> 77 -> 32 -> 52 -> 4 -> 43 -> 75 -> 72 -> 51 -> 62 -> 60 -> 78 -> 53 -> 9 -> 28 -> 17 -> 49 -> 7 -> 74 -> 21 -> 20 -> 35 -> 18 -> 68 -> 66 -> 42 -> 64 -> 3 -> 0 -> 59 -> 46 -> 33 -> 23 -> 76 -> 34 -> 38 -> 57 -> 65 -> 22 -> 67 -> 55 -> 41 -> 12 -> 47 -> 37 -> 10 -> 69 -> 2 -> 73 -> 48 -> 50 -> 44 -> 70 -> 58 -> 14 -> 19 -> 45 -> 71 -> 39 -> 16 -> 63 -> 1 -> 25 -> 6 -> 79 -> 15 -> 31 -> 8 -> 11 -> 29 -> 5 -> 26 -> 24 -> 27 -> 61 -> 56\n",
      "\n",
      "tai100a:\n",
      "62 -> 61 -> 18 -> 64 -> 97 -> 39 -> 87 -> 23 -> 73 -> 83 -> 75 -> 9 -> 46 -> 14 -> 7 -> 2 -> 85 -> 63 -> 67 -> 93 -> 59 -> 50 -> 78 -> 92 -> 57 -> 91 -> 26 -> 81 -> 94 -> 99 -> 16 -> 80 -> 65 -> 69 -> 68 -> 55 -> 44 -> 24 -> 28 -> 29 -> 19 -> 10 -> 33 -> 58 -> 89 -> 43 -> 6 -> 11 -> 74 -> 27 -> 60 -> 31 -> 88 -> 8 -> 79 -> 30 -> 40 -> 12 -> 35 -> 95 -> 25 -> 77 -> 5 -> 38 -> 76 -> 36 -> 45 -> 53 -> 34 -> 22 -> 82 -> 0 -> 90 -> 37 -> 1 -> 42 -> 54 -> 96 -> 56 -> 52 -> 70 -> 20 -> 48 -> 86 -> 3 -> 4 -> 41 -> 72 -> 47 -> 13 -> 84 -> 21 -> 98 -> 17 -> 49 -> 51 -> 15 -> 32 -> 66 -> 71 -> 62\n",
      "\n"
     ]
    }
   ],
   "source": [
    "print_way(way, keys, 'ls')"
   ]
  },
  {
   "cell_type": "markdown",
   "metadata": {},
   "source": [
    "# Iterated local search"
   ]
  },
  {
   "cell_type": "code",
   "execution_count": 14,
   "metadata": {
    "ExecuteTime": {
     "end_time": "2023-06-13T00:10:40.569254Z",
     "start_time": "2023-06-13T00:10:40.529821Z"
    }
   },
   "outputs": [
    {
     "name": "stderr",
     "output_type": "stream",
     "text": [
      "100%|█████████████████████████████████████████| 100/100 [00:03<00:00, 30.62it/s]\n",
      "100%|█████████████████████████████████████████| 100/100 [00:26<00:00,  3.74it/s]\n",
      "100%|█████████████████████████████████████████| 100/100 [01:25<00:00,  1.17it/s]\n",
      "100%|█████████████████████████████████████████| 100/100 [03:18<00:00,  1.98s/it]\n",
      "100%|█████████████████████████████████████████| 100/100 [06:39<00:00,  4.00s/it]\n"
     ]
    }
   ],
   "source": [
    "times, targets, way = get_ILS(graph, keys)"
   ]
  },
  {
   "cell_type": "code",
   "execution_count": 15,
   "metadata": {
    "ExecuteTime": {
     "end_time": "2023-06-13T00:11:37.104915Z",
     "start_time": "2023-06-13T00:11:37.087801Z"
    }
   },
   "outputs": [
    {
     "data": {
      "text/html": [
       "<div>\n",
       "<style scoped>\n",
       "    .dataframe tbody tr th:only-of-type {\n",
       "        vertical-align: middle;\n",
       "    }\n",
       "\n",
       "    .dataframe tbody tr th {\n",
       "        vertical-align: top;\n",
       "    }\n",
       "\n",
       "    .dataframe thead th {\n",
       "        text-align: right;\n",
       "    }\n",
       "</style>\n",
       "<table border=\"1\" class=\"dataframe\">\n",
       "  <thead>\n",
       "    <tr style=\"text-align: right;\">\n",
       "      <th></th>\n",
       "      <th>tai20a</th>\n",
       "      <th>tai40a</th>\n",
       "      <th>tai60a</th>\n",
       "      <th>tai80a</th>\n",
       "      <th>tai100a</th>\n",
       "    </tr>\n",
       "  </thead>\n",
       "  <tbody>\n",
       "    <tr>\n",
       "      <th>Iterated Local Search</th>\n",
       "      <td>-</td>\n",
       "      <td>-</td>\n",
       "      <td>-</td>\n",
       "      <td>-</td>\n",
       "      <td>-</td>\n",
       "    </tr>\n",
       "    <tr>\n",
       "      <th>Time</th>\n",
       "      <td>3.3075</td>\n",
       "      <td>27.115</td>\n",
       "      <td>86.725</td>\n",
       "      <td>201.5414</td>\n",
       "      <td>405.7535</td>\n",
       "    </tr>\n",
       "    <tr>\n",
       "      <th>Target</th>\n",
       "      <td>719494</td>\n",
       "      <td>3232676</td>\n",
       "      <td>7404986</td>\n",
       "      <td>13836942</td>\n",
       "      <td>21607126</td>\n",
       "    </tr>\n",
       "    <tr>\n",
       "      <th>True Target</th>\n",
       "      <td>703482</td>\n",
       "      <td>3139370</td>\n",
       "      <td>7205962</td>\n",
       "      <td>13499184</td>\n",
       "      <td>21052466</td>\n",
       "    </tr>\n",
       "  </tbody>\n",
       "</table>\n",
       "</div>"
      ],
      "text/plain": [
       "                       tai20a   tai40a   tai60a    tai80a   tai100a\n",
       "Iterated Local Search       -        -        -         -         -\n",
       "Time                   3.3075   27.115   86.725  201.5414  405.7535\n",
       "Target                 719494  3232676  7404986  13836942  21607126\n",
       "True Target            703482  3139370  7205962  13499184  21052466"
      ]
     },
     "execution_count": 15,
     "metadata": {},
     "output_type": "execute_result"
    }
   ],
   "source": [
    "res_table_ls('Iterated Local Search', keys, times, targets, true_targets)"
   ]
  },
  {
   "cell_type": "code",
   "execution_count": 16,
   "metadata": {},
   "outputs": [
    {
     "name": "stdout",
     "output_type": "stream",
     "text": [
      "tai20a:\n",
      "6 -> 5 -> 15 -> 13 -> 19 -> 8 -> 2 -> 10 -> 9 -> 16 -> 17 -> 3 -> 11 -> 4 -> 1 -> 14 -> 18 -> 12 -> 7 -> 0 -> 6\n",
      "\n",
      "tai40a:\n",
      "23 -> 1 -> 20 -> 36 -> 19 -> 31 -> 32 -> 5 -> 13 -> 2 -> 9 -> 17 -> 6 -> 4 -> 35 -> 28 -> 39 -> 14 -> 11 -> 8 -> 30 -> 0 -> 18 -> 34 -> 27 -> 10 -> 37 -> 12 -> 38 -> 29 -> 15 -> 21 -> 24 -> 7 -> 25 -> 16 -> 22 -> 33 -> 26 -> 3 -> 23\n",
      "\n",
      "tai60a:\n",
      "27 -> 33 -> 25 -> 29 -> 17 -> 46 -> 49 -> 35 -> 51 -> 12 -> 30 -> 22 -> 48 -> 37 -> 44 -> 50 -> 10 -> 34 -> 41 -> 15 -> 9 -> 45 -> 5 -> 19 -> 39 -> 55 -> 57 -> 26 -> 59 -> 13 -> 40 -> 8 -> 6 -> 31 -> 52 -> 38 -> 18 -> 4 -> 3 -> 21 -> 47 -> 7 -> 11 -> 1 -> 32 -> 43 -> 14 -> 58 -> 20 -> 28 -> 0 -> 36 -> 23 -> 54 -> 24 -> 2 -> 42 -> 56 -> 53 -> 16 -> 27\n",
      "\n",
      "tai80a:\n",
      "68 -> 18 -> 37 -> 19 -> 22 -> 30 -> 76 -> 63 -> 15 -> 45 -> 46 -> 32 -> 55 -> 78 -> 65 -> 44 -> 61 -> 13 -> 9 -> 54 -> 6 -> 66 -> 58 -> 34 -> 28 -> 1 -> 8 -> 50 -> 7 -> 24 -> 35 -> 67 -> 36 -> 42 -> 38 -> 27 -> 12 -> 10 -> 69 -> 5 -> 79 -> 17 -> 33 -> 25 -> 72 -> 57 -> 60 -> 16 -> 47 -> 14 -> 43 -> 4 -> 52 -> 40 -> 53 -> 23 -> 49 -> 73 -> 41 -> 56 -> 77 -> 62 -> 21 -> 31 -> 64 -> 75 -> 48 -> 70 -> 3 -> 0 -> 59 -> 2 -> 26 -> 51 -> 29 -> 39 -> 74 -> 11 -> 71 -> 20 -> 68\n",
      "\n",
      "tai100a:\n",
      "74 -> 85 -> 19 -> 93 -> 89 -> 98 -> 91 -> 60 -> 68 -> 40 -> 51 -> 45 -> 99 -> 41 -> 1 -> 77 -> 0 -> 38 -> 23 -> 80 -> 20 -> 43 -> 90 -> 3 -> 79 -> 61 -> 88 -> 66 -> 10 -> 34 -> 55 -> 7 -> 50 -> 14 -> 4 -> 8 -> 9 -> 56 -> 70 -> 16 -> 31 -> 94 -> 6 -> 21 -> 42 -> 11 -> 18 -> 25 -> 64 -> 76 -> 73 -> 24 -> 59 -> 92 -> 71 -> 47 -> 15 -> 52 -> 62 -> 27 -> 22 -> 83 -> 30 -> 36 -> 33 -> 13 -> 72 -> 97 -> 46 -> 87 -> 82 -> 39 -> 29 -> 65 -> 75 -> 95 -> 69 -> 49 -> 17 -> 67 -> 86 -> 28 -> 2 -> 58 -> 26 -> 5 -> 84 -> 32 -> 35 -> 63 -> 37 -> 57 -> 96 -> 48 -> 54 -> 81 -> 12 -> 53 -> 44 -> 78 -> 74\n",
      "\n"
     ]
    }
   ],
   "source": [
    "print_way(way, keys, 'Ils')"
   ]
  }
 ],
 "metadata": {
  "kernelspec": {
   "display_name": "Python 3 (ipykernel)",
   "language": "python",
   "name": "python3"
  },
  "language_info": {
   "codemirror_mode": {
    "name": "ipython",
    "version": 3
   },
   "file_extension": ".py",
   "mimetype": "text/x-python",
   "name": "python",
   "nbconvert_exporter": "python",
   "pygments_lexer": "ipython3",
   "version": "3.8.10"
  }
 },
 "nbformat": 4,
 "nbformat_minor": 1
}
