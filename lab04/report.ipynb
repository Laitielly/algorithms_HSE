{
 "cells": [
  {
   "cell_type": "markdown",
   "metadata": {},
   "source": [
    "# Лабораторная работа №4.\n",
    "### Выполнили Антонов Илья Витальевич и Сидорова Анна Павловна 20ПМИ-2"
   ]
  },
  {
   "cell_type": "code",
   "execution_count": 1,
   "metadata": {
    "ExecuteTime": {
     "end_time": "2023-06-13T00:09:45.689700Z",
     "start_time": "2023-06-13T00:09:45.029946Z"
    }
   },
   "outputs": [],
   "source": [
    "from data.prepare_report import *"
   ]
  },
  {
   "cell_type": "code",
   "execution_count": 2,
   "metadata": {
    "ExecuteTime": {
     "end_time": "2023-06-13T00:09:45.697839Z",
     "start_time": "2023-06-13T00:09:45.529092Z"
    }
   },
   "outputs": [],
   "source": [
    "graph = decoder_npy('data/graph.npy')\n",
    "keys = ['tai20a', 'tai40a', 'tai60a', 'tai80a', 'tai100a']\n",
    "true_targets = [703482, 3139370, 7205962, 13499184, 21052466]"
   ]
  },
  {
   "cell_type": "markdown",
   "metadata": {},
   "source": [
    "# Local search + don't look bits"
   ]
  },
  {
   "cell_type": "code",
   "execution_count": 10,
   "metadata": {
    "ExecuteTime": {
     "end_time": "2023-06-13T00:05:59.810855Z",
     "start_time": "2023-06-13T00:05:39.007621Z"
    },
    "pycharm": {
     "is_executing": true
    }
   },
   "outputs": [],
   "source": [
    "times, targets, way = get_local_search(graph, keys)"
   ]
  },
  {
   "cell_type": "code",
   "execution_count": 11,
   "metadata": {
    "ExecuteTime": {
     "end_time": "2023-06-13T00:10:05.388008Z",
     "start_time": "2023-06-13T00:09:45.599478Z"
    }
   },
   "outputs": [
    {
     "data": {
      "text/html": [
       "<div>\n",
       "<style scoped>\n",
       "    .dataframe tbody tr th:only-of-type {\n",
       "        vertical-align: middle;\n",
       "    }\n",
       "\n",
       "    .dataframe tbody tr th {\n",
       "        vertical-align: top;\n",
       "    }\n",
       "\n",
       "    .dataframe thead th {\n",
       "        text-align: right;\n",
       "    }\n",
       "</style>\n",
       "<table border=\"1\" class=\"dataframe\">\n",
       "  <thead>\n",
       "    <tr style=\"text-align: right;\">\n",
       "      <th></th>\n",
       "      <th>tai20a</th>\n",
       "      <th>tai40a</th>\n",
       "      <th>tai60a</th>\n",
       "      <th>tai80a</th>\n",
       "      <th>tai100a</th>\n",
       "    </tr>\n",
       "  </thead>\n",
       "  <tbody>\n",
       "    <tr>\n",
       "      <th>Local Search</th>\n",
       "      <td>-</td>\n",
       "      <td>-</td>\n",
       "      <td>-</td>\n",
       "      <td>-</td>\n",
       "      <td>-</td>\n",
       "    </tr>\n",
       "    <tr>\n",
       "      <th>Time</th>\n",
       "      <td>0.0366</td>\n",
       "      <td>0.354</td>\n",
       "      <td>1.229</td>\n",
       "      <td>2.6392</td>\n",
       "      <td>6.9883</td>\n",
       "    </tr>\n",
       "    <tr>\n",
       "      <th>Target</th>\n",
       "      <td>754334</td>\n",
       "      <td>3299066</td>\n",
       "      <td>7581196</td>\n",
       "      <td>14099556</td>\n",
       "      <td>21937978</td>\n",
       "    </tr>\n",
       "    <tr>\n",
       "      <th>True Target</th>\n",
       "      <td>703482</td>\n",
       "      <td>3139370</td>\n",
       "      <td>7205962</td>\n",
       "      <td>13499184</td>\n",
       "      <td>21052466</td>\n",
       "    </tr>\n",
       "  </tbody>\n",
       "</table>\n",
       "</div>"
      ],
      "text/plain": [
       "              tai20a   tai40a   tai60a    tai80a   tai100a\n",
       "Local Search       -        -        -         -         -\n",
       "Time          0.0366    0.354    1.229    2.6392    6.9883\n",
       "Target        754334  3299066  7581196  14099556  21937978\n",
       "True Target   703482  3139370  7205962  13499184  21052466"
      ]
     },
     "execution_count": 11,
     "metadata": {},
     "output_type": "execute_result"
    }
   ],
   "source": [
    "res_table_ls('Local Search', keys, times, targets, true_targets)"
   ]
  },
  {
   "cell_type": "code",
   "execution_count": 12,
   "metadata": {},
   "outputs": [
    {
     "name": "stdout",
     "output_type": "stream",
     "text": [
      "tai20a:\n",
      "16 -> 10 -> 1 -> 14 -> 19 -> 9 -> 12 -> 8 -> 4 -> 7 -> 5 -> 0 -> 11 -> 17 -> 2 -> 3 -> 18 -> 15 -> 13 -> 6 -> 16\n",
      "\n",
      "tai40a:\n",
      "36 -> 30 -> 39 -> 4 -> 19 -> 11 -> 21 -> 34 -> 18 -> 3 -> 20 -> 27 -> 14 -> 5 -> 2 -> 7 -> 6 -> 0 -> 12 -> 15 -> 16 -> 33 -> 10 -> 26 -> 1 -> 24 -> 28 -> 32 -> 25 -> 17 -> 37 -> 38 -> 29 -> 8 -> 13 -> 23 -> 31 -> 22 -> 9 -> 35 -> 36\n",
      "\n",
      "tai60a:\n",
      "36 -> 45 -> 56 -> 20 -> 54 -> 31 -> 43 -> 12 -> 46 -> 26 -> 5 -> 51 -> 48 -> 6 -> 25 -> 8 -> 13 -> 47 -> 0 -> 59 -> 16 -> 37 -> 52 -> 2 -> 41 -> 44 -> 15 -> 14 -> 29 -> 28 -> 11 -> 22 -> 38 -> 40 -> 27 -> 53 -> 3 -> 18 -> 49 -> 34 -> 39 -> 1 -> 19 -> 58 -> 10 -> 7 -> 24 -> 50 -> 17 -> 9 -> 23 -> 35 -> 4 -> 57 -> 33 -> 55 -> 21 -> 42 -> 32 -> 30 -> 36\n",
      "\n",
      "tai80a:\n",
      "56 -> 40 -> 36 -> 30 -> 54 -> 13 -> 77 -> 32 -> 52 -> 4 -> 43 -> 75 -> 72 -> 51 -> 62 -> 60 -> 78 -> 53 -> 9 -> 28 -> 17 -> 49 -> 7 -> 74 -> 21 -> 20 -> 35 -> 18 -> 68 -> 66 -> 42 -> 64 -> 3 -> 0 -> 59 -> 46 -> 33 -> 23 -> 76 -> 34 -> 38 -> 57 -> 65 -> 22 -> 67 -> 55 -> 41 -> 12 -> 47 -> 37 -> 10 -> 69 -> 2 -> 73 -> 48 -> 50 -> 44 -> 70 -> 58 -> 14 -> 19 -> 45 -> 71 -> 39 -> 16 -> 63 -> 1 -> 25 -> 6 -> 79 -> 15 -> 31 -> 8 -> 11 -> 29 -> 5 -> 26 -> 24 -> 27 -> 61 -> 56\n",
      "\n",
      "tai100a:\n",
      "62 -> 61 -> 18 -> 64 -> 97 -> 39 -> 87 -> 23 -> 73 -> 83 -> 75 -> 9 -> 46 -> 14 -> 7 -> 2 -> 85 -> 63 -> 67 -> 93 -> 59 -> 50 -> 78 -> 92 -> 57 -> 91 -> 26 -> 81 -> 94 -> 99 -> 16 -> 80 -> 65 -> 69 -> 68 -> 55 -> 44 -> 24 -> 28 -> 29 -> 19 -> 10 -> 33 -> 58 -> 89 -> 43 -> 6 -> 11 -> 74 -> 27 -> 60 -> 31 -> 88 -> 8 -> 79 -> 30 -> 40 -> 12 -> 35 -> 95 -> 25 -> 77 -> 5 -> 38 -> 76 -> 36 -> 45 -> 53 -> 34 -> 22 -> 82 -> 0 -> 90 -> 37 -> 1 -> 42 -> 54 -> 96 -> 56 -> 52 -> 70 -> 20 -> 48 -> 86 -> 3 -> 4 -> 41 -> 72 -> 47 -> 13 -> 84 -> 21 -> 98 -> 17 -> 49 -> 51 -> 15 -> 32 -> 66 -> 71 -> 62\n",
      "\n"
     ]
    }
   ],
   "source": [
    "print_way(way, keys, 'ls')"
   ]
  },
  {
   "cell_type": "markdown",
   "metadata": {},
   "source": [
    "# Iterated local search"
   ]
  },
  {
   "cell_type": "code",
   "execution_count": 3,
   "metadata": {},
   "outputs": [
    {
     "name": "stderr",
     "output_type": "stream",
     "text": [
      "100%|███████████████████████████████████████| 2000/2000 [00:55<00:00, 36.25it/s]\n",
      "100%|███████████████████████████████████████| 2000/2000 [07:35<00:00,  4.39it/s]\n",
      "100%|███████████████████████████████████████| 2000/2000 [25:20<00:00,  1.32it/s]\n",
      "100%|███████████████████████████████████████| 2000/2000 [52:38<00:00,  1.58s/it]\n",
      "100%|█████████████████████████████████████| 2000/2000 [1:42:04<00:00,  3.06s/it]\n"
     ]
    }
   ],
   "source": [
    "times, targets, way = get_ILS(graph, keys)"
   ]
  },
  {
   "cell_type": "code",
   "execution_count": 4,
   "metadata": {},
   "outputs": [
    {
     "data": {
      "text/html": [
       "<div>\n",
       "<style scoped>\n",
       "    .dataframe tbody tr th:only-of-type {\n",
       "        vertical-align: middle;\n",
       "    }\n",
       "\n",
       "    .dataframe tbody tr th {\n",
       "        vertical-align: top;\n",
       "    }\n",
       "\n",
       "    .dataframe thead th {\n",
       "        text-align: right;\n",
       "    }\n",
       "</style>\n",
       "<table border=\"1\" class=\"dataframe\">\n",
       "  <thead>\n",
       "    <tr style=\"text-align: right;\">\n",
       "      <th></th>\n",
       "      <th>tai20a</th>\n",
       "      <th>tai40a</th>\n",
       "      <th>tai60a</th>\n",
       "      <th>tai80a</th>\n",
       "      <th>tai100a</th>\n",
       "    </tr>\n",
       "  </thead>\n",
       "  <tbody>\n",
       "    <tr>\n",
       "      <th>Iterated Local Search</th>\n",
       "      <td>-</td>\n",
       "      <td>-</td>\n",
       "      <td>-</td>\n",
       "      <td>-</td>\n",
       "      <td>-</td>\n",
       "    </tr>\n",
       "    <tr>\n",
       "      <th>Time</th>\n",
       "      <td>55.2204</td>\n",
       "      <td>455.9537</td>\n",
       "      <td>1522.0154</td>\n",
       "      <td>3161.5856</td>\n",
       "      <td>6129.0555</td>\n",
       "    </tr>\n",
       "    <tr>\n",
       "      <th>Target</th>\n",
       "      <td>705622</td>\n",
       "      <td>3200890</td>\n",
       "      <td>7366928</td>\n",
       "      <td>13824376</td>\n",
       "      <td>21478236</td>\n",
       "    </tr>\n",
       "    <tr>\n",
       "      <th>True Target</th>\n",
       "      <td>703482</td>\n",
       "      <td>3139370</td>\n",
       "      <td>7205962</td>\n",
       "      <td>13499184</td>\n",
       "      <td>21052466</td>\n",
       "    </tr>\n",
       "  </tbody>\n",
       "</table>\n",
       "</div>"
      ],
      "text/plain": [
       "                        tai20a    tai40a     tai60a     tai80a    tai100a\n",
       "Iterated Local Search        -         -          -          -          -\n",
       "Time                   55.2204  455.9537  1522.0154  3161.5856  6129.0555\n",
       "Target                  705622   3200890    7366928   13824376   21478236\n",
       "True Target             703482   3139370    7205962   13499184   21052466"
      ]
     },
     "execution_count": 4,
     "metadata": {},
     "output_type": "execute_result"
    }
   ],
   "source": [
    "res_table_ls('Iterated Local Search', keys, times, targets, true_targets)"
   ]
  },
  {
   "cell_type": "code",
   "execution_count": 5,
   "metadata": {},
   "outputs": [
    {
     "name": "stdout",
     "output_type": "stream",
     "text": [
      "tai20a:\n",
      "7 -> 1 -> 9 -> 17 -> 11 -> 10 -> 13 -> 0 -> 15 -> 5 -> 6 -> 16 -> 19 -> 8 -> 12 -> 18 -> 14 -> 2 -> 4 -> 3 -> 7\n",
      "\n",
      "tai40a:\n",
      "17 -> 39 -> 5 -> 13 -> 22 -> 34 -> 2 -> 36 -> 26 -> 33 -> 35 -> 30 -> 27 -> 6 -> 14 -> 18 -> 7 -> 20 -> 9 -> 4 -> 23 -> 15 -> 16 -> 31 -> 12 -> 37 -> 19 -> 11 -> 0 -> 8 -> 3 -> 10 -> 29 -> 28 -> 25 -> 21 -> 24 -> 32 -> 1 -> 38 -> 17\n",
      "\n",
      "tai60a:\n",
      "57 -> 23 -> 29 -> 10 -> 41 -> 25 -> 4 -> 15 -> 2 -> 35 -> 5 -> 9 -> 33 -> 8 -> 7 -> 51 -> 21 -> 26 -> 24 -> 58 -> 49 -> 31 -> 12 -> 14 -> 36 -> 28 -> 19 -> 34 -> 37 -> 3 -> 55 -> 48 -> 18 -> 39 -> 17 -> 53 -> 44 -> 52 -> 30 -> 59 -> 42 -> 22 -> 6 -> 38 -> 0 -> 32 -> 46 -> 27 -> 16 -> 20 -> 54 -> 11 -> 40 -> 1 -> 56 -> 43 -> 47 -> 50 -> 13 -> 45 -> 57\n",
      "\n",
      "tai80a:\n",
      "5 -> 40 -> 76 -> 71 -> 0 -> 15 -> 74 -> 22 -> 19 -> 13 -> 21 -> 9 -> 65 -> 59 -> 62 -> 29 -> 72 -> 66 -> 63 -> 4 -> 42 -> 6 -> 16 -> 32 -> 26 -> 11 -> 2 -> 48 -> 37 -> 60 -> 68 -> 14 -> 47 -> 10 -> 46 -> 31 -> 57 -> 27 -> 33 -> 54 -> 25 -> 78 -> 64 -> 67 -> 43 -> 36 -> 12 -> 73 -> 79 -> 55 -> 41 -> 61 -> 3 -> 1 -> 75 -> 18 -> 38 -> 7 -> 50 -> 8 -> 39 -> 23 -> 56 -> 35 -> 51 -> 58 -> 53 -> 44 -> 20 -> 69 -> 70 -> 52 -> 17 -> 34 -> 30 -> 77 -> 49 -> 45 -> 28 -> 24 -> 5\n",
      "\n",
      "tai100a:\n",
      "79 -> 56 -> 77 -> 2 -> 30 -> 99 -> 93 -> 3 -> 64 -> 71 -> 22 -> 91 -> 6 -> 5 -> 69 -> 31 -> 8 -> 28 -> 10 -> 17 -> 29 -> 26 -> 57 -> 75 -> 58 -> 45 -> 18 -> 82 -> 16 -> 19 -> 53 -> 67 -> 48 -> 96 -> 41 -> 7 -> 46 -> 27 -> 39 -> 23 -> 98 -> 72 -> 65 -> 1 -> 70 -> 76 -> 36 -> 89 -> 54 -> 97 -> 38 -> 49 -> 42 -> 11 -> 12 -> 44 -> 37 -> 32 -> 50 -> 88 -> 52 -> 61 -> 15 -> 9 -> 86 -> 13 -> 83 -> 14 -> 94 -> 33 -> 63 -> 68 -> 21 -> 81 -> 47 -> 59 -> 90 -> 43 -> 73 -> 51 -> 20 -> 24 -> 35 -> 4 -> 85 -> 40 -> 95 -> 60 -> 66 -> 92 -> 80 -> 55 -> 78 -> 84 -> 74 -> 34 -> 62 -> 25 -> 0 -> 87 -> 79\n",
      "\n"
     ]
    }
   ],
   "source": [
    "print_way(way, keys, 'Ils2')"
   ]
  }
 ],
 "metadata": {
  "kernelspec": {
   "display_name": "Python 3 (ipykernel)",
   "language": "python",
   "name": "python3"
  },
  "language_info": {
   "codemirror_mode": {
    "name": "ipython",
    "version": 3
   },
   "file_extension": ".py",
   "mimetype": "text/x-python",
   "name": "python",
   "nbconvert_exporter": "python",
   "pygments_lexer": "ipython3",
   "version": "3.8.10"
  }
 },
 "nbformat": 4,
 "nbformat_minor": 1
}
