{
 "cells": [
  {
   "cell_type": "code",
   "execution_count": null,
   "metadata": {
    "collapsed": true,
    "ExecuteTime": {
     "start_time": "2023-06-12T23:44:31.541194Z",
     "end_time": "2023-06-12T23:44:32.030996Z"
    },
    "pycharm": {
     "is_executing": true
    }
   },
   "outputs": [],
   "source": [
    "from data.prepare_report import *"
   ]
  },
  {
   "cell_type": "code",
   "execution_count": 2,
   "outputs": [],
   "source": [
    "graph = decoder_npy('data/graph.npy')\n",
    "keys = ['tai20a', 'tai40a', 'tai60a', 'tai80a', 'tai100a']\n",
    "true_targets = [703482, 3139370, 7205962, 13499184, 21052466]"
   ],
   "metadata": {
    "collapsed": false,
    "ExecuteTime": {
     "start_time": "2023-06-12T23:44:32.024084Z",
     "end_time": "2023-06-12T23:44:32.043062Z"
    }
   }
  },
  {
   "cell_type": "code",
   "execution_count": null,
   "outputs": [
    {
     "name": "stderr",
     "output_type": "stream",
     "text": [
      "100%|██████████| 100/100 [00:04<00:00, 20.40it/s]\n",
      "100%|██████████| 100/100 [00:39<00:00,  2.51it/s]\n",
      " 50%|█████     | 50/100 [01:06<01:01,  1.23s/it]"
     ]
    }
   ],
   "source": [
    "times = []\n",
    "way = []\n",
    "targets = []"
   ],
   "metadata": {
    "collapsed": false,
    "ExecuteTime": {
     "start_time": "2023-06-12T22:02:19.674673Z",
     "end_time": "2023-06-12T22:02:19.779240Z"
    },
    "pycharm": {
     "is_executing": true
    }
   }
  },
  {
   "cell_type": "code",
   "execution_count": null,
   "outputs": [],
   "source": [
    "times, targets, way = get_local_search(graph, keys)"
   ],
   "metadata": {
    "collapsed": false,
    "ExecuteTime": {
     "start_time": "2023-06-12T22:03:01.404617Z",
     "end_time": "2023-06-12T22:03:15.468854Z"
    },
    "pycharm": {
     "is_executing": true
    }
   }
  },
  {
   "cell_type": "code",
   "execution_count": null,
   "outputs": [],
   "source": [
    "res_table_ls('Local Search', keys, times, targets, true_targets)"
   ],
   "metadata": {
    "collapsed": false,
    "ExecuteTime": {
     "start_time": "2023-06-12T22:03:15.466580Z",
     "end_time": "2023-06-12T22:03:15.475894Z"
    },
    "pycharm": {
     "is_executing": true
    }
   }
  },
  {
   "cell_type": "code",
   "execution_count": null,
   "outputs": [],
   "source": [],
   "metadata": {
    "collapsed": false
   }
  }
 ],
 "metadata": {
  "kernelspec": {
   "display_name": "Python 3",
   "language": "python",
   "name": "python3"
  },
  "language_info": {
   "codemirror_mode": {
    "name": "ipython",
    "version": 2
   },
   "file_extension": ".py",
   "mimetype": "text/x-python",
   "name": "python",
   "nbconvert_exporter": "python",
   "pygments_lexer": "ipython2",
   "version": "2.7.6"
  }
 },
 "nbformat": 4,
 "nbformat_minor": 0
}
