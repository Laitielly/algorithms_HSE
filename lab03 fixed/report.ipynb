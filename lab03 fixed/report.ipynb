{
 "cells": [
  {
   "cell_type": "markdown",
   "metadata": {
    "id": "qhtlYdUNYsJv"
   },
   "source": [
    "# Отчет\n",
    "\n",
    "## Импорт библиотек и открытие данных"
   ]
  },
  {
   "cell_type": "code",
   "execution_count": 1,
   "metadata": {
    "id": "JoqxgBuzUe33"
   },
   "outputs": [],
   "source": [
    "import numpy as np\n",
    "from prepare_report import knapsack_report, salesman_report\n",
    "from prepare_report import res_table_salesman, res_table_knapsack\n",
    "from data.get_branches import get_salesman, get_knapsack"
   ]
  },
  {
   "cell_type": "code",
   "execution_count": null,
   "metadata": {
    "id": "p51g76ENTgx2"
   },
   "outputs": [],
   "source": [
    "!unzip /content/genetic"
   ]
  },
  {
   "cell_type": "code",
   "execution_count": 2,
   "metadata": {
    "id": "BOfG79nBUtc7"
   },
   "outputs": [],
   "source": [
    "capacity, profits, weights, optimal = get_knapsack('data/benchmarks/')\n",
    "graph = get_salesman('data/output_graphs.npy')"
   ]
  },
  {
   "cell_type": "markdown",
   "metadata": {
    "id": "QbLK6Lr4Y3RP"
   },
   "source": [
    "## Результаты knapsack 0-1"
   ]
  },
  {
   "cell_type": "code",
   "execution_count": null,
   "metadata": {
    "id": "uAdBIzaXar-E"
   },
   "outputs": [],
   "source": [
    "total_time = []\n",
    "for i in range(10):\n",
    "    time_knapsack, weight_knapsack,profit_knapsack, id_knapsack = knapsack_report(capacity, weights, profits)\n",
    "    total_time.append(time_knapsack)"
   ]
  },
  {
   "cell_type": "code",
   "execution_count": null,
   "metadata": {
    "id": "G86uyBpRhWEd"
   },
   "outputs": [],
   "source": [
    "total_time = np.array(total_time)\n",
    "total_time = np.mean(total_time, axis=0)"
   ]
  },
  {
   "cell_type": "code",
   "execution_count": null,
   "metadata": {
    "colab": {
     "base_uri": "https://localhost:8080/",
     "height": 251
    },
    "id": "TJ8Ck8cLa5v1",
    "outputId": "e87e98ba-7384-4367-b165-625f4232fffd"
   },
   "outputs": [
    {
     "data": {
      "text/html": [
       "\n",
       "  <div id=\"df-af73c664-9ddd-462c-b69d-4029a0e94eda\">\n",
       "    <div class=\"colab-df-container\">\n",
       "      <div>\n",
       "<style scoped>\n",
       "    .dataframe tbody tr th:only-of-type {\n",
       "        vertical-align: middle;\n",
       "    }\n",
       "\n",
       "    .dataframe tbody tr th {\n",
       "        vertical-align: top;\n",
       "    }\n",
       "\n",
       "    .dataframe thead th {\n",
       "        text-align: right;\n",
       "    }\n",
       "</style>\n",
       "<table border=\"1\" class=\"dataframe\">\n",
       "  <thead>\n",
       "    <tr style=\"text-align: right;\">\n",
       "      <th></th>\n",
       "      <th>p01</th>\n",
       "      <th>p02</th>\n",
       "      <th>p03</th>\n",
       "      <th>p04</th>\n",
       "      <th>p05</th>\n",
       "      <th>p06</th>\n",
       "      <th>p07</th>\n",
       "    </tr>\n",
       "  </thead>\n",
       "  <tbody>\n",
       "    <tr>\n",
       "      <th>Weight</th>\n",
       "      <td>165</td>\n",
       "      <td>26</td>\n",
       "      <td>190</td>\n",
       "      <td>50</td>\n",
       "      <td>104</td>\n",
       "      <td>169</td>\n",
       "      <td>749</td>\n",
       "    </tr>\n",
       "    <tr>\n",
       "      <th>Profit</th>\n",
       "      <td>309</td>\n",
       "      <td>51</td>\n",
       "      <td>150</td>\n",
       "      <td>107</td>\n",
       "      <td>900</td>\n",
       "      <td>1735</td>\n",
       "      <td>1458</td>\n",
       "    </tr>\n",
       "    <tr>\n",
       "      <th>Time</th>\n",
       "      <td>0.079288</td>\n",
       "      <td>0.061499</td>\n",
       "      <td>0.061475</td>\n",
       "      <td>0.067658</td>\n",
       "      <td>0.064515</td>\n",
       "      <td>0.067684</td>\n",
       "      <td>0.080929</td>\n",
       "    </tr>\n",
       "    <tr>\n",
       "      <th>ID</th>\n",
       "      <td>[1, 1, 1, 1, 0, 1, 0, 0, 0, 0]</td>\n",
       "      <td>[0, 1, 1, 1, 0]</td>\n",
       "      <td>[1, 1, 0, 0, 1, 0]</td>\n",
       "      <td>[1, 0, 0, 1, 0, 0, 0]</td>\n",
       "      <td>[1, 0, 1, 1, 1, 0, 1, 1]</td>\n",
       "      <td>[0, 1, 0, 1, 0, 0, 1]</td>\n",
       "      <td>[1, 0, 1, 0, 1, 0, 1, 1, 1, 0, 0, 0, 0, 1, 1]</td>\n",
       "    </tr>\n",
       "  </tbody>\n",
       "</table>\n",
       "</div>\n",
       "      <button class=\"colab-df-convert\" onclick=\"convertToInteractive('df-af73c664-9ddd-462c-b69d-4029a0e94eda')\"\n",
       "              title=\"Convert this dataframe to an interactive table.\"\n",
       "              style=\"display:none;\">\n",
       "        \n",
       "  <svg xmlns=\"http://www.w3.org/2000/svg\" height=\"24px\"viewBox=\"0 0 24 24\"\n",
       "       width=\"24px\">\n",
       "    <path d=\"M0 0h24v24H0V0z\" fill=\"none\"/>\n",
       "    <path d=\"M18.56 5.44l.94 2.06.94-2.06 2.06-.94-2.06-.94-.94-2.06-.94 2.06-2.06.94zm-11 1L8.5 8.5l.94-2.06 2.06-.94-2.06-.94L8.5 2.5l-.94 2.06-2.06.94zm10 10l.94 2.06.94-2.06 2.06-.94-2.06-.94-.94-2.06-.94 2.06-2.06.94z\"/><path d=\"M17.41 7.96l-1.37-1.37c-.4-.4-.92-.59-1.43-.59-.52 0-1.04.2-1.43.59L10.3 9.45l-7.72 7.72c-.78.78-.78 2.05 0 2.83L4 21.41c.39.39.9.59 1.41.59.51 0 1.02-.2 1.41-.59l7.78-7.78 2.81-2.81c.8-.78.8-2.07 0-2.86zM5.41 20L4 18.59l7.72-7.72 1.47 1.35L5.41 20z\"/>\n",
       "  </svg>\n",
       "      </button>\n",
       "      \n",
       "  <style>\n",
       "    .colab-df-container {\n",
       "      display:flex;\n",
       "      flex-wrap:wrap;\n",
       "      gap: 12px;\n",
       "    }\n",
       "\n",
       "    .colab-df-convert {\n",
       "      background-color: #E8F0FE;\n",
       "      border: none;\n",
       "      border-radius: 50%;\n",
       "      cursor: pointer;\n",
       "      display: none;\n",
       "      fill: #1967D2;\n",
       "      height: 32px;\n",
       "      padding: 0 0 0 0;\n",
       "      width: 32px;\n",
       "    }\n",
       "\n",
       "    .colab-df-convert:hover {\n",
       "      background-color: #E2EBFA;\n",
       "      box-shadow: 0px 1px 2px rgba(60, 64, 67, 0.3), 0px 1px 3px 1px rgba(60, 64, 67, 0.15);\n",
       "      fill: #174EA6;\n",
       "    }\n",
       "\n",
       "    [theme=dark] .colab-df-convert {\n",
       "      background-color: #3B4455;\n",
       "      fill: #D2E3FC;\n",
       "    }\n",
       "\n",
       "    [theme=dark] .colab-df-convert:hover {\n",
       "      background-color: #434B5C;\n",
       "      box-shadow: 0px 1px 3px 1px rgba(0, 0, 0, 0.15);\n",
       "      filter: drop-shadow(0px 1px 2px rgba(0, 0, 0, 0.3));\n",
       "      fill: #FFFFFF;\n",
       "    }\n",
       "  </style>\n",
       "\n",
       "      <script>\n",
       "        const buttonEl =\n",
       "          document.querySelector('#df-af73c664-9ddd-462c-b69d-4029a0e94eda button.colab-df-convert');\n",
       "        buttonEl.style.display =\n",
       "          google.colab.kernel.accessAllowed ? 'block' : 'none';\n",
       "\n",
       "        async function convertToInteractive(key) {\n",
       "          const element = document.querySelector('#df-af73c664-9ddd-462c-b69d-4029a0e94eda');\n",
       "          const dataTable =\n",
       "            await google.colab.kernel.invokeFunction('convertToInteractive',\n",
       "                                                     [key], {});\n",
       "          if (!dataTable) return;\n",
       "\n",
       "          const docLinkHtml = 'Like what you see? Visit the ' +\n",
       "            '<a target=\"_blank\" href=https://colab.research.google.com/notebooks/data_table.ipynb>data table notebook</a>'\n",
       "            + ' to learn more about interactive tables.';\n",
       "          element.innerHTML = '';\n",
       "          dataTable['output_type'] = 'display_data';\n",
       "          await google.colab.output.renderOutput(dataTable, element);\n",
       "          const docLink = document.createElement('div');\n",
       "          docLink.innerHTML = docLinkHtml;\n",
       "          element.appendChild(docLink);\n",
       "        }\n",
       "      </script>\n",
       "    </div>\n",
       "  </div>\n",
       "  "
      ],
      "text/plain": [
       "                                   p01              p02                 p03  \\\n",
       "Weight                             165               26                 190   \n",
       "Profit                             309               51                 150   \n",
       "Time                          0.079288         0.061499            0.061475   \n",
       "ID      [1, 1, 1, 1, 0, 1, 0, 0, 0, 0]  [0, 1, 1, 1, 0]  [1, 1, 0, 0, 1, 0]   \n",
       "\n",
       "                          p04                       p05  \\\n",
       "Weight                     50                       104   \n",
       "Profit                    107                       900   \n",
       "Time                 0.067658                  0.064515   \n",
       "ID      [1, 0, 0, 1, 0, 0, 0]  [1, 0, 1, 1, 1, 0, 1, 1]   \n",
       "\n",
       "                          p06                                            p07  \n",
       "Weight                    169                                            749  \n",
       "Profit                   1735                                           1458  \n",
       "Time                 0.067684                                       0.080929  \n",
       "ID      [0, 1, 0, 1, 0, 0, 1]  [1, 0, 1, 0, 1, 0, 1, 1, 1, 0, 0, 0, 0, 1, 1]  "
      ]
     },
     "execution_count": 40,
     "metadata": {},
     "output_type": "execute_result"
    }
   ],
   "source": [
    "res_table_knapsack(sorted(capacity.keys()), total_time, \n",
    "                   weight_knapsack, profit_knapsack, \n",
    "                   id_knapsack)"
   ]
  },
  {
   "cell_type": "markdown",
   "metadata": {
    "id": "wLs0c5UobL_p"
   },
   "source": [
    "**Предыдущая таблица (лаб2)**\n",
    "\n",
    "| Рюкзаки\\Ответ \t| Вес \t| Стоимость \t| Время \t| ID \t|\n",
    "|---|---|---|---|---|\n",
    "| p01 \t| 165   \t| 309   \t| 0.001335 \t| [1, 1, 1, 1, 0, 1, 0, 0, 0, 0] \t|\n",
    "| p02 \t| 26    \t| 51    \t| 0.000094 \t| [0, 1, 1, 1, 0] \t|\n",
    "| p03 \t| 190   \t| 150    \t| 0.001033  \t| [1, 1, 0, 0, 1, 0] \t|\n",
    "| p04 \t| 50    \t| 107    \t| 0.000238  \t| [1, 0, 0, 1, 0, 0] \t|\n",
    "| p05 \t| 104   \t| 900   \t| 0.000658  \t| [1, 0, 1, 1, 1, 0, 1, 1] \t|\n",
    "| p06 \t| 169   \t| 1735   \t| 0.000863 \t| [0, 1, 0, 1, 0, 0, 1] \t|\n",
    "| p07 \t| 749   \t| 1458   \t| 0.010723 \t| [1, 0, 1, 0, 1, 0, 1, 1, 1, 0, 0, 0, 0, 1, 1] \t|"
   ]
  },
  {
   "cell_type": "markdown",
   "metadata": {
    "id": "ULG72vANY89O"
   },
   "source": [
    "## Результаты коммивояжер"
   ]
  },
  {
   "cell_type": "code",
   "execution_count": 3,
   "metadata": {},
   "outputs": [],
   "source": [
    "sorted_keys = ['gr17', 'bays29', 'att48', 'ch150', 'a280', 'fl417']\n",
    "# paramet = {'gr17': (100, 3_000_000, 10, 0.2), 'bays29': (100, 3_000_000, 10, 0.2), \n",
    "#           'att48': (100, 2_000_000, 10, 0.2), 'ch150': (100, 1_000_000, 10, 0.2),\n",
    "#           'a280': (100, 700_000, 10, 0.2), 'fl417': (100, 500_000, 10, 0.2)}\n",
    "paramet = {'gr17': (100, 10_000, 20), 'bays29': (100, 100_000, 20), \n",
    "          'att48': (100, 100_000, 20), 'ch150': (100, 100_000, 20),\n",
    "          'a280': (100, 100_000, 20), 'fl417': (100, 100_000, 20)}"
   ]
  },
  {
   "cell_type": "code",
   "execution_count": 4,
   "metadata": {
    "colab": {
     "base_uri": "https://localhost:8080/"
    },
    "id": "LE9t3w_vaSSF",
    "outputId": "5810cbba-db19-49d3-b57c-ceccf6903539"
   },
   "outputs": [],
   "source": [
    "time_salesman = []\n",
    "weight_salesman = []\n",
    "way_salesman = []\n",
    "answer_salesman = []"
   ]
  },
  {
   "cell_type": "code",
   "execution_count": 5,
   "metadata": {},
   "outputs": [
    {
     "name": "stderr",
     "output_type": "stream",
     "text": [
      "100%|████████████████████████████████████| 10000/10000 [00:20<00:00, 488.74it/s]\n"
     ]
    },
    {
     "name": "stdout",
     "output_type": "stream",
     "text": [
      "gr17: 2085.0 vs 2085.0\n"
     ]
    },
    {
     "name": "stderr",
     "output_type": "stream",
     "text": [
      "100%|██████████████████████████████████| 100000/100000 [04:23<00:00, 379.30it/s]\n"
     ]
    },
    {
     "name": "stdout",
     "output_type": "stream",
     "text": [
      "bays29: 2092.0 vs 2020.0\n"
     ]
    },
    {
     "name": "stderr",
     "output_type": "stream",
     "text": [
      "100%|██████████████████████████████████| 100000/100000 [06:16<00:00, 265.26it/s]\n"
     ]
    },
    {
     "name": "stdout",
     "output_type": "stream",
     "text": [
      "att48: 12474.0 vs 10628.0\n"
     ]
    },
    {
     "name": "stderr",
     "output_type": "stream",
     "text": [
      "100%|██████████████████████████████████| 100000/100000 [14:28<00:00, 115.11it/s]\n"
     ]
    },
    {
     "name": "stdout",
     "output_type": "stream",
     "text": [
      "ch150: 10136.481391191483 vs 6528.0\n"
     ]
    },
    {
     "name": "stderr",
     "output_type": "stream",
     "text": [
      "100%|███████████████████████████████████| 100000/100000 [24:19<00:00, 68.52it/s]\n"
     ]
    },
    {
     "name": "stdout",
     "output_type": "stream",
     "text": [
      "a280: 2799.3609828948975 vs 2579.0\n"
     ]
    },
    {
     "name": "stderr",
     "output_type": "stream",
     "text": [
      "100%|███████████████████████████████████| 100000/100000 [35:46<00:00, 46.59it/s]\n"
     ]
    },
    {
     "name": "stdout",
     "output_type": "stream",
     "text": [
      "fl417: 29613.841302871704 vs 11861.0\n"
     ]
    }
   ],
   "source": [
    "for i in sorted_keys:\n",
    "    result = salesman_report(graph[i], paramet[i]) \n",
    "    \n",
    "    time_salesman.append(result[3])\n",
    "    weight_salesman.append(result[1])\n",
    "    way_salesman.append(result[0])\n",
    "    answer_salesman.append(result[2])\n",
    "    \n",
    "    print(f\"{i}: {result[1]} vs {result[2]}\")"
   ]
  },
  {
   "cell_type": "code",
   "execution_count": 6,
   "metadata": {},
   "outputs": [
    {
     "data": {
      "text/html": [
       "<div>\n",
       "<style scoped>\n",
       "    .dataframe tbody tr th:only-of-type {\n",
       "        vertical-align: middle;\n",
       "    }\n",
       "\n",
       "    .dataframe tbody tr th {\n",
       "        vertical-align: top;\n",
       "    }\n",
       "\n",
       "    .dataframe thead th {\n",
       "        text-align: right;\n",
       "    }\n",
       "</style>\n",
       "<table border=\"1\" class=\"dataframe\">\n",
       "  <thead>\n",
       "    <tr style=\"text-align: right;\">\n",
       "      <th></th>\n",
       "      <th>gr17</th>\n",
       "      <th>bays29</th>\n",
       "      <th>att48</th>\n",
       "      <th>ch150</th>\n",
       "      <th>a280</th>\n",
       "      <th>fl417</th>\n",
       "    </tr>\n",
       "  </thead>\n",
       "  <tbody>\n",
       "    <tr>\n",
       "      <th>Weight</th>\n",
       "      <td>2085.0</td>\n",
       "      <td>2092.0</td>\n",
       "      <td>12474.0</td>\n",
       "      <td>10136.481391</td>\n",
       "      <td>2799.360983</td>\n",
       "      <td>29613.841303</td>\n",
       "    </tr>\n",
       "    <tr>\n",
       "      <th>True answer</th>\n",
       "      <td>2085.0</td>\n",
       "      <td>2020.0</td>\n",
       "      <td>10628.0</td>\n",
       "      <td>6528.0</td>\n",
       "      <td>2579.0</td>\n",
       "      <td>11861.0</td>\n",
       "    </tr>\n",
       "    <tr>\n",
       "      <th>Time</th>\n",
       "      <td>20.790627</td>\n",
       "      <td>264.532747</td>\n",
       "      <td>380.00275</td>\n",
       "      <td>906.350482</td>\n",
       "      <td>1497.321867</td>\n",
       "      <td>2181.376102</td>\n",
       "    </tr>\n",
       "    <tr>\n",
       "      <th>Way</th>\n",
       "      <td>[2, 10, 9, 1, 4, 8, 11, 15, 0, 3, 12, 6, 7, 5,...</td>\n",
       "      <td>[7, 26, 22, 6, 24, 12, 20, 0, 27, 5, 11, 8, 4,...</td>\n",
       "      <td>[25, 3, 34, 44, 9, 23, 47, 4, 22, 42, 16, 26, ...</td>\n",
       "      <td>[47, 72, 75, 33, 86, 0, 81, 94, 106, 102, 97, ...</td>\n",
       "      <td>[1, 279, 0, 3, 4, 5, 6, 7, 8, 9, 10, 11, 12, 1...</td>\n",
       "      <td>[7, 0, 9, 15, 20, 19, 12, 1, 3, 2, 8, 10, 14, ...</td>\n",
       "    </tr>\n",
       "  </tbody>\n",
       "</table>\n",
       "</div>"
      ],
      "text/plain": [
       "                                                          gr17   \n",
       "Weight                                                  2085.0  \\\n",
       "True answer                                             2085.0   \n",
       "Time                                                 20.790627   \n",
       "Way          [2, 10, 9, 1, 4, 8, 11, 15, 0, 3, 12, 6, 7, 5,...   \n",
       "\n",
       "                                                        bays29   \n",
       "Weight                                                  2092.0  \\\n",
       "True answer                                             2020.0   \n",
       "Time                                                264.532747   \n",
       "Way          [7, 26, 22, 6, 24, 12, 20, 0, 27, 5, 11, 8, 4,...   \n",
       "\n",
       "                                                         att48   \n",
       "Weight                                                 12474.0  \\\n",
       "True answer                                            10628.0   \n",
       "Time                                                 380.00275   \n",
       "Way          [25, 3, 34, 44, 9, 23, 47, 4, 22, 42, 16, 26, ...   \n",
       "\n",
       "                                                         ch150   \n",
       "Weight                                            10136.481391  \\\n",
       "True answer                                             6528.0   \n",
       "Time                                                906.350482   \n",
       "Way          [47, 72, 75, 33, 86, 0, 81, 94, 106, 102, 97, ...   \n",
       "\n",
       "                                                          a280   \n",
       "Weight                                             2799.360983  \\\n",
       "True answer                                             2579.0   \n",
       "Time                                               1497.321867   \n",
       "Way          [1, 279, 0, 3, 4, 5, 6, 7, 8, 9, 10, 11, 12, 1...   \n",
       "\n",
       "                                                         fl417  \n",
       "Weight                                            29613.841303  \n",
       "True answer                                            11861.0  \n",
       "Time                                               2181.376102  \n",
       "Way          [7, 0, 9, 15, 20, 19, 12, 1, 3, 2, 8, 10, 14, ...  "
      ]
     },
     "execution_count": 6,
     "metadata": {},
     "output_type": "execute_result"
    }
   ],
   "source": [
    "res_table_salesman(sorted_keys, time_salesman, \n",
    "          weight_salesman, answer_salesman, way_salesman)"
   ]
  },
  {
   "cell_type": "code",
   "execution_count": 7,
   "metadata": {
    "id": "oex0IBHvaV6H"
   },
   "outputs": [
    {
     "name": "stdout",
     "output_type": "stream",
     "text": [
      "[2, 10, 9, 1, 4, 8, 11, 15, 0, 3, 12, 6, 7, 5, 16, 13, 14]\n",
      "[7, 26, 22, 6, 24, 12, 20, 0, 27, 5, 11, 8, 4, 25, 28, 2, 1, 19, 9, 3, 14, 17, 16, 13, 21, 10, 18, 15, 23]\n",
      "[25, 3, 34, 44, 9, 23, 47, 4, 22, 42, 16, 26, 18, 36, 5, 29, 27, 35, 6, 17, 43, 30, 37, 7, 21, 2, 13, 12, 24, 38, 31, 20, 46, 19, 32, 45, 14, 11, 10, 39, 8, 0, 15, 40, 33, 28, 1, 41]\n",
      "[47, 72, 75, 33, 86, 0, 81, 94, 106, 102, 97, 6, 83, 7, 123, 96, 4, 99, 142, 84, 131, 136, 101, 113, 98, 18, 36, 1, 107, 69, 134, 49, 85, 28, 80, 57, 54, 64, 141, 17, 74, 25, 145, 55, 82, 140, 24, 119, 41, 46, 109, 19, 50, 42, 59, 65, 16, 139, 116, 128, 144, 63, 43, 111, 135, 12, 105, 90, 118, 67, 127, 44, 70, 58, 91, 53, 137, 45, 89, 92, 34, 88, 29, 95, 51, 110, 15, 132, 76, 121, 13, 79, 71, 73, 122, 30, 26, 143, 146, 48, 100, 126, 68, 35, 117, 23, 11, 38, 56, 40, 37, 22, 31, 66, 115, 129, 147, 10, 60, 39, 52, 108, 133, 32, 125, 104, 130, 138, 27, 5, 8, 14, 77, 114, 3, 103, 149, 20, 78, 87, 93, 120, 9, 112, 61, 148, 124, 21, 2, 62]\n",
      "[1, 279, 0, 3, 4, 5, 6, 7, 8, 9, 10, 11, 12, 13, 14, 15, 16, 17, 18, 19, 20, 23, 22, 24, 21, 25, 26, 27, 28, 29, 30, 31, 32, 33, 34, 35, 36, 37, 38, 39, 40, 41, 42, 43, 44, 45, 46, 47, 48, 49, 50, 51, 52, 53, 54, 55, 56, 57, 58, 59, 60, 61, 62, 63, 64, 65, 66, 67, 68, 69, 70, 71, 72, 73, 74, 75, 76, 77, 78, 79, 80, 81, 82, 83, 84, 85, 86, 87, 88, 89, 90, 91, 92, 93, 94, 95, 96, 97, 98, 99, 100, 101, 102, 103, 104, 105, 106, 107, 108, 109, 110, 111, 112, 113, 114, 115, 116, 117, 118, 119, 120, 121, 122, 123, 124, 125, 126, 127, 128, 129, 130, 131, 132, 133, 134, 135, 136, 137, 138, 139, 140, 141, 142, 143, 144, 145, 146, 147, 148, 149, 150, 151, 155, 152, 154, 153, 156, 157, 158, 159, 160, 161, 162, 163, 164, 165, 166, 167, 168, 169, 170, 171, 172, 173, 174, 175, 176, 177, 178, 179, 180, 181, 182, 183, 184, 185, 186, 187, 188, 189, 190, 191, 192, 193, 194, 195, 196, 197, 198, 199, 200, 201, 202, 203, 204, 205, 206, 207, 208, 209, 210, 211, 212, 213, 214, 215, 216, 217, 218, 219, 220, 221, 222, 223, 224, 225, 226, 227, 228, 229, 230, 231, 232, 233, 234, 235, 236, 237, 238, 239, 240, 241, 242, 243, 244, 245, 246, 247, 248, 249, 250, 251, 252, 253, 254, 255, 256, 257, 258, 259, 260, 261, 262, 263, 264, 265, 266, 267, 268, 269, 270, 271, 272, 273, 274, 275, 276, 277, 278, 2]\n",
      "[7, 0, 9, 15, 20, 19, 12, 1, 3, 2, 8, 10, 14, 13, 26, 16, 11, 5, 4, 6, 17, 18, 21, 24, 31, 23, 25, 30, 27, 29, 28, 22, 32, 34, 39, 36, 38, 41, 33, 35, 37, 40, 53, 54, 56, 48, 45, 42, 47, 49, 51, 50, 43, 46, 44, 52, 55, 59, 71, 102, 61, 92, 88, 89, 93, 86, 76, 72, 68, 64, 57, 58, 83, 87, 73, 78, 85, 79, 91, 80, 75, 67, 70, 60, 74, 63, 77, 82, 81, 90, 94, 65, 62, 66, 69, 95, 96, 84, 98, 100, 97, 99, 101, 103, 104, 130, 129, 107, 108, 131, 109, 111, 135, 113, 137, 115, 139, 117, 141, 119, 143, 124, 148, 126, 150, 149, 128, 127, 125, 123, 118, 114, 133, 112, 136, 138, 116, 140, 142, 120, 144, 122, 146, 152, 333, 334, 336, 337, 315, 316, 338, 317, 318, 154, 153, 177, 155, 179, 157, 181, 159, 183, 161, 185, 163, 187, 165, 189, 167, 191, 169, 193, 171, 195, 197, 175, 173, 180, 178, 156, 158, 182, 160, 184, 162, 186, 164, 188, 166, 190, 168, 192, 170, 194, 172, 196, 174, 198, 176, 199, 200, 203, 204, 226, 228, 227, 206, 229, 207, 231, 209, 233, 211, 235, 237, 216, 215, 239, 217, 218, 241, 220, 242, 240, 238, 236, 234, 232, 230, 208, 210, 212, 214, 244, 222, 224, 408, 393, 394, 395, 415, 416, 396, 397, 375, 376, 398, 377, 378, 250, 249, 273, 251, 275, 254, 278, 256, 279, 257, 281, 259, 283, 261, 285, 263, 288, 266, 289, 267, 291, 293, 271, 269, 276, 274, 252, 253, 277, 255, 280, 258, 282, 260, 284, 262, 286, 264, 287, 265, 290, 268, 292, 270, 294, 272, 296, 295, 340, 341, 328, 329, 300, 301, 343, 320, 303, 145, 147, 151, 308, 309, 310, 311, 312, 313, 314, 326, 325, 324, 323, 121, 105, 307, 306, 305, 304, 322, 302, 321, 347, 330, 331, 332, 106, 110, 134, 132, 299, 298, 297, 339, 327, 319, 342, 344, 345, 346, 348, 349, 350, 335, 351, 352, 353, 354, 355, 356, 357, 399, 387, 358, 379, 359, 360, 361, 380, 381, 366, 368, 369, 370, 371, 372, 373, 385, 384, 383, 219, 213, 205, 225, 202, 201, 367, 392, 391, 390, 407, 406, 382, 363, 364, 365, 243, 245, 247, 223, 221, 362, 388, 400, 401, 389, 402, 403, 404, 405, 246, 248, 409, 410, 411, 412, 413, 414, 386, 374]\n"
     ]
    }
   ],
   "source": [
    "for i in way_salesman:\n",
    "    print(i)"
   ]
  }
 ],
 "metadata": {
  "colab": {
   "provenance": []
  },
  "kernelspec": {
   "display_name": "Python 3 (ipykernel)",
   "language": "python",
   "name": "python3"
  },
  "language_info": {
   "codemirror_mode": {
    "name": "ipython",
    "version": 3
   },
   "file_extension": ".py",
   "mimetype": "text/x-python",
   "name": "python",
   "nbconvert_exporter": "python",
   "pygments_lexer": "ipython3",
   "version": "3.8.10"
  }
 },
 "nbformat": 4,
 "nbformat_minor": 1
}
