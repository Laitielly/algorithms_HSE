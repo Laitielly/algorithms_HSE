{
  "nbformat": 4,
  "nbformat_minor": 0,
  "metadata": {
    "colab": {
      "provenance": []
    },
    "kernelspec": {
      "name": "python3",
      "display_name": "Python 3"
    },
    "language_info": {
      "name": "python"
    }
  },
  "cells": [
    {
      "cell_type": "markdown",
      "source": [
        "# Отчет\n",
        "\n",
        "## Импорт библиотек и открытие данных"
      ],
      "metadata": {
        "id": "qhtlYdUNYsJv"
      }
    },
    {
      "cell_type": "code",
      "source": [
        "import numpy as np\n",
        "from prepare_report import knapsack_report, salesman_report\n",
        "from prepare_report import res_table_salesman, res_table_knapsack\n",
        "from data.get_branches import get_salesman, get_knapsack"
      ],
      "metadata": {
        "id": "JoqxgBuzUe33"
      },
      "execution_count": 1,
      "outputs": []
    },
    {
      "cell_type": "code",
      "execution_count": null,
      "metadata": {
        "id": "p51g76ENTgx2"
      },
      "outputs": [],
      "source": [
        "!unzip /content/genetic"
      ]
    },
    {
      "cell_type": "code",
      "source": [
        "capacity, profits, weights, optimal = get_knapsack('data/benchmarks/')\n",
        "graph = get_salesman('data/output_graphs.npy')"
      ],
      "metadata": {
        "id": "BOfG79nBUtc7"
      },
      "execution_count": 2,
      "outputs": []
    },
    {
      "cell_type": "markdown",
      "source": [
        "## Результаты knapsack 0-1"
      ],
      "metadata": {
        "id": "QbLK6Lr4Y3RP"
      }
    },
    {
      "cell_type": "code",
      "source": [
        "total_time = []\n",
        "for i in range(10):\n",
        "    time_knapsack, weight_knapsack,profit_knapsack, id_knapsack = knapsack_report(capacity, weights, profits)\n",
        "    total_time.append(time_knapsack)"
      ],
      "metadata": {
        "id": "uAdBIzaXar-E"
      },
      "execution_count": null,
      "outputs": []
    },
    {
      "cell_type": "code",
      "source": [
        "total_time = np.array(total_time)\n",
        "total_time = np.mean(total_time, axis=0)"
      ],
      "metadata": {
        "id": "G86uyBpRhWEd"
      },
      "execution_count": 39,
      "outputs": []
    },
    {
      "cell_type": "code",
      "source": [
        "res_table_knapsack(sorted(capacity.keys()), total_time, \n",
        "                   weight_knapsack, profit_knapsack, \n",
        "                   id_knapsack)"
      ],
      "metadata": {
        "colab": {
          "base_uri": "https://localhost:8080/",
          "height": 251
        },
        "id": "TJ8Ck8cLa5v1",
        "outputId": "e87e98ba-7384-4367-b165-625f4232fffd"
      },
      "execution_count": 40,
      "outputs": [
        {
          "output_type": "execute_result",
          "data": {
            "text/plain": [
              "                                   p01              p02                 p03  \\\n",
              "Weight                             165               26                 190   \n",
              "Profit                             309               51                 150   \n",
              "Time                          0.079288         0.061499            0.061475   \n",
              "ID      [1, 1, 1, 1, 0, 1, 0, 0, 0, 0]  [0, 1, 1, 1, 0]  [1, 1, 0, 0, 1, 0]   \n",
              "\n",
              "                          p04                       p05  \\\n",
              "Weight                     50                       104   \n",
              "Profit                    107                       900   \n",
              "Time                 0.067658                  0.064515   \n",
              "ID      [1, 0, 0, 1, 0, 0, 0]  [1, 0, 1, 1, 1, 0, 1, 1]   \n",
              "\n",
              "                          p06                                            p07  \n",
              "Weight                    169                                            749  \n",
              "Profit                   1735                                           1458  \n",
              "Time                 0.067684                                       0.080929  \n",
              "ID      [0, 1, 0, 1, 0, 0, 1]  [1, 0, 1, 0, 1, 0, 1, 1, 1, 0, 0, 0, 0, 1, 1]  "
            ],
            "text/html": [
              "\n",
              "  <div id=\"df-af73c664-9ddd-462c-b69d-4029a0e94eda\">\n",
              "    <div class=\"colab-df-container\">\n",
              "      <div>\n",
              "<style scoped>\n",
              "    .dataframe tbody tr th:only-of-type {\n",
              "        vertical-align: middle;\n",
              "    }\n",
              "\n",
              "    .dataframe tbody tr th {\n",
              "        vertical-align: top;\n",
              "    }\n",
              "\n",
              "    .dataframe thead th {\n",
              "        text-align: right;\n",
              "    }\n",
              "</style>\n",
              "<table border=\"1\" class=\"dataframe\">\n",
              "  <thead>\n",
              "    <tr style=\"text-align: right;\">\n",
              "      <th></th>\n",
              "      <th>p01</th>\n",
              "      <th>p02</th>\n",
              "      <th>p03</th>\n",
              "      <th>p04</th>\n",
              "      <th>p05</th>\n",
              "      <th>p06</th>\n",
              "      <th>p07</th>\n",
              "    </tr>\n",
              "  </thead>\n",
              "  <tbody>\n",
              "    <tr>\n",
              "      <th>Weight</th>\n",
              "      <td>165</td>\n",
              "      <td>26</td>\n",
              "      <td>190</td>\n",
              "      <td>50</td>\n",
              "      <td>104</td>\n",
              "      <td>169</td>\n",
              "      <td>749</td>\n",
              "    </tr>\n",
              "    <tr>\n",
              "      <th>Profit</th>\n",
              "      <td>309</td>\n",
              "      <td>51</td>\n",
              "      <td>150</td>\n",
              "      <td>107</td>\n",
              "      <td>900</td>\n",
              "      <td>1735</td>\n",
              "      <td>1458</td>\n",
              "    </tr>\n",
              "    <tr>\n",
              "      <th>Time</th>\n",
              "      <td>0.079288</td>\n",
              "      <td>0.061499</td>\n",
              "      <td>0.061475</td>\n",
              "      <td>0.067658</td>\n",
              "      <td>0.064515</td>\n",
              "      <td>0.067684</td>\n",
              "      <td>0.080929</td>\n",
              "    </tr>\n",
              "    <tr>\n",
              "      <th>ID</th>\n",
              "      <td>[1, 1, 1, 1, 0, 1, 0, 0, 0, 0]</td>\n",
              "      <td>[0, 1, 1, 1, 0]</td>\n",
              "      <td>[1, 1, 0, 0, 1, 0]</td>\n",
              "      <td>[1, 0, 0, 1, 0, 0, 0]</td>\n",
              "      <td>[1, 0, 1, 1, 1, 0, 1, 1]</td>\n",
              "      <td>[0, 1, 0, 1, 0, 0, 1]</td>\n",
              "      <td>[1, 0, 1, 0, 1, 0, 1, 1, 1, 0, 0, 0, 0, 1, 1]</td>\n",
              "    </tr>\n",
              "  </tbody>\n",
              "</table>\n",
              "</div>\n",
              "      <button class=\"colab-df-convert\" onclick=\"convertToInteractive('df-af73c664-9ddd-462c-b69d-4029a0e94eda')\"\n",
              "              title=\"Convert this dataframe to an interactive table.\"\n",
              "              style=\"display:none;\">\n",
              "        \n",
              "  <svg xmlns=\"http://www.w3.org/2000/svg\" height=\"24px\"viewBox=\"0 0 24 24\"\n",
              "       width=\"24px\">\n",
              "    <path d=\"M0 0h24v24H0V0z\" fill=\"none\"/>\n",
              "    <path d=\"M18.56 5.44l.94 2.06.94-2.06 2.06-.94-2.06-.94-.94-2.06-.94 2.06-2.06.94zm-11 1L8.5 8.5l.94-2.06 2.06-.94-2.06-.94L8.5 2.5l-.94 2.06-2.06.94zm10 10l.94 2.06.94-2.06 2.06-.94-2.06-.94-.94-2.06-.94 2.06-2.06.94z\"/><path d=\"M17.41 7.96l-1.37-1.37c-.4-.4-.92-.59-1.43-.59-.52 0-1.04.2-1.43.59L10.3 9.45l-7.72 7.72c-.78.78-.78 2.05 0 2.83L4 21.41c.39.39.9.59 1.41.59.51 0 1.02-.2 1.41-.59l7.78-7.78 2.81-2.81c.8-.78.8-2.07 0-2.86zM5.41 20L4 18.59l7.72-7.72 1.47 1.35L5.41 20z\"/>\n",
              "  </svg>\n",
              "      </button>\n",
              "      \n",
              "  <style>\n",
              "    .colab-df-container {\n",
              "      display:flex;\n",
              "      flex-wrap:wrap;\n",
              "      gap: 12px;\n",
              "    }\n",
              "\n",
              "    .colab-df-convert {\n",
              "      background-color: #E8F0FE;\n",
              "      border: none;\n",
              "      border-radius: 50%;\n",
              "      cursor: pointer;\n",
              "      display: none;\n",
              "      fill: #1967D2;\n",
              "      height: 32px;\n",
              "      padding: 0 0 0 0;\n",
              "      width: 32px;\n",
              "    }\n",
              "\n",
              "    .colab-df-convert:hover {\n",
              "      background-color: #E2EBFA;\n",
              "      box-shadow: 0px 1px 2px rgba(60, 64, 67, 0.3), 0px 1px 3px 1px rgba(60, 64, 67, 0.15);\n",
              "      fill: #174EA6;\n",
              "    }\n",
              "\n",
              "    [theme=dark] .colab-df-convert {\n",
              "      background-color: #3B4455;\n",
              "      fill: #D2E3FC;\n",
              "    }\n",
              "\n",
              "    [theme=dark] .colab-df-convert:hover {\n",
              "      background-color: #434B5C;\n",
              "      box-shadow: 0px 1px 3px 1px rgba(0, 0, 0, 0.15);\n",
              "      filter: drop-shadow(0px 1px 2px rgba(0, 0, 0, 0.3));\n",
              "      fill: #FFFFFF;\n",
              "    }\n",
              "  </style>\n",
              "\n",
              "      <script>\n",
              "        const buttonEl =\n",
              "          document.querySelector('#df-af73c664-9ddd-462c-b69d-4029a0e94eda button.colab-df-convert');\n",
              "        buttonEl.style.display =\n",
              "          google.colab.kernel.accessAllowed ? 'block' : 'none';\n",
              "\n",
              "        async function convertToInteractive(key) {\n",
              "          const element = document.querySelector('#df-af73c664-9ddd-462c-b69d-4029a0e94eda');\n",
              "          const dataTable =\n",
              "            await google.colab.kernel.invokeFunction('convertToInteractive',\n",
              "                                                     [key], {});\n",
              "          if (!dataTable) return;\n",
              "\n",
              "          const docLinkHtml = 'Like what you see? Visit the ' +\n",
              "            '<a target=\"_blank\" href=https://colab.research.google.com/notebooks/data_table.ipynb>data table notebook</a>'\n",
              "            + ' to learn more about interactive tables.';\n",
              "          element.innerHTML = '';\n",
              "          dataTable['output_type'] = 'display_data';\n",
              "          await google.colab.output.renderOutput(dataTable, element);\n",
              "          const docLink = document.createElement('div');\n",
              "          docLink.innerHTML = docLinkHtml;\n",
              "          element.appendChild(docLink);\n",
              "        }\n",
              "      </script>\n",
              "    </div>\n",
              "  </div>\n",
              "  "
            ]
          },
          "metadata": {},
          "execution_count": 40
        }
      ]
    },
    {
      "cell_type": "markdown",
      "source": [
        "**Предыдущая таблица (лаб2)**\n",
        "\n",
        "| Рюкзаки\\Ответ \t| Вес \t| Стоимость \t| Время \t| ID \t|\n",
        "|---\t|---\t|---\t|---\t|---\t|\n",
        "| p01 \t| 165   \t| 309   \t| 0.001335 \t| [1, 1, 1, 1, 0, 1, 0, 0, 0, 0] \t|\n",
        "| p02 \t| 26    \t| 51    \t| 0.000094 \t| [0, 1, 1, 1, 0] \t|\n",
        "| p03 \t| 190   \t| 150    \t| 0.001033  \t| [1, 1, 0, 0, 1, 0] \t|\n",
        "| p04 \t| 50    \t| 107    \t| 0.000238  \t| [1, 0, 0, 1, 0, 0] \t|\n",
        "| p05 \t| 104   \t| 900   \t| 0.000658  \t| [1, 0, 1, 1, 1, 0, 1, 1] \t|\n",
        "| p06 \t| 169   \t| 1735   \t| 0.000863 \t| [0, 1, 0, 1, 0, 0, 1] \t|\n",
        "| p07 \t| 749   \t| 1458   \t| 0.010723 \t| [1, 0, 1, 0, 1, 0, 1, 1, 1, 0, 0, 0, 0, 1, 1] \t|"
      ],
      "metadata": {
        "id": "wLs0c5UobL_p"
      }
    },
    {
      "cell_type": "markdown",
      "source": [
        "## Результаты коммивояжер"
      ],
      "metadata": {
        "id": "ULG72vANY89O"
      }
    },
    {
      "cell_type": "code",
      "source": [
        "(150_000, 10, 1_000, 0.5)"
      ],
      "metadata": {
        "colab": {
          "base_uri": "https://localhost:8080/"
        },
        "id": "LE9t3w_vaSSF",
        "outputId": "a3b72555-db41-44d7-8264-8e1c44c34661"
      },
      "execution_count": 24,
      "outputs": [
        {
          "output_type": "execute_result",
          "data": {
            "text/plain": [
              "(250000, 5, 900)"
            ]
          },
          "metadata": {},
          "execution_count": 24
        }
      ]
    },
    {
      "cell_type": "code",
      "source": [
        "time_salesman, weight_salesman, way_salesman, answer_salesman = salesman_report(graph)"
      ],
      "metadata": {
        "colab": {
          "base_uri": "https://localhost:8080/"
        },
        "id": "lOwzfQ4laRpe",
        "outputId": "454cac3d-da49-4573-f476-255ab790a63f"
      },
      "execution_count": 3,
      "outputs": [
        {
          "output_type": "stream",
          "name": "stderr",
          "text": [
            "100%|██████████| 10/10 [36:45<00:00, 220.52s/it]\n",
            "100%|██████████| 10/10 [42:37<00:00, 255.70s/it]\n",
            "100%|██████████| 10/10 [38:04<00:00, 228.45s/it]\n",
            "100%|██████████| 10/10 [36:11<00:00, 217.13s/it]\n",
            "100%|██████████| 10/10 [52:36<00:00, 315.62s/it]\n",
            "100%|██████████| 10/10 [38:57<00:00, 233.74s/it]\n"
          ]
        }
      ]
    },
    {
      "cell_type": "code",
      "source": [
        "res_table_salesman(graph.keys(), time_salesman, \n",
        "          weight_salesman, answer_salesman, way_salesman)"
      ],
      "metadata": {
        "colab": {
          "base_uri": "https://localhost:8080/",
          "height": 285
        },
        "id": "wcoexunIaSmn",
        "outputId": "9e1f7431-85cf-4a1f-c4a9-df1db2c23671"
      },
      "execution_count": 4,
      "outputs": [
        {
          "output_type": "execute_result",
          "data": {
            "text/plain": [
              "                                                          gr17  \\\n",
              "Weight                                                  2491.0   \n",
              "True answer                                             2085.0   \n",
              "Time                                               2208.527761   \n",
              "Way          [3, 7, 13, 5, 4, 9, 1, 10, 2, 14, 16, 6, 0, 15...   \n",
              "\n",
              "                                                          a280  \\\n",
              "Weight                                             2818.621637   \n",
              "True answer                                             2579.0   \n",
              "Time                                               2605.435931   \n",
              "Way          [0, 1, 2, 3, 4, 5, 6, 7, 8, 9, 10, 11, 12, 13,...   \n",
              "\n",
              "                                                         ch150  \\\n",
              "Weight                                            45292.584585   \n",
              "True answer                                             6528.0   \n",
              "Time                                               2309.991053   \n",
              "Way          [17, 92, 99, 135, 22, 109, 27, 94, 42, 147, 13...   \n",
              "\n",
              "                                                        bays29  \\\n",
              "Weight                                                  4020.0   \n",
              "True answer                                             2020.0   \n",
              "Time                                               2177.366926   \n",
              "Way          [15, 18, 10, 21, 13, 16, 17, 22, 20, 27, 26, 6...   \n",
              "\n",
              "                                                         fl417  \\\n",
              "Weight                                            55387.192585   \n",
              "True answer                                            11861.0   \n",
              "Time                                                3235.97283   \n",
              "Way          [0, 1, 2, 3, 4, 5, 6, 7, 8, 9, 10, 11, 12, 13,...   \n",
              "\n",
              "                                                         att48  \n",
              "Weight                                                 34141.0  \n",
              "True answer                                            10628.0  \n",
              "Time                                               2347.727555  \n",
              "Way          [3, 47, 12, 31, 10, 16, 2, 46, 14, 11, 21, 38,...  "
            ],
            "text/html": [
              "\n",
              "  <div id=\"df-a6e1f1b0-206d-4228-a585-c69166a3b00b\">\n",
              "    <div class=\"colab-df-container\">\n",
              "      <div>\n",
              "<style scoped>\n",
              "    .dataframe tbody tr th:only-of-type {\n",
              "        vertical-align: middle;\n",
              "    }\n",
              "\n",
              "    .dataframe tbody tr th {\n",
              "        vertical-align: top;\n",
              "    }\n",
              "\n",
              "    .dataframe thead th {\n",
              "        text-align: right;\n",
              "    }\n",
              "</style>\n",
              "<table border=\"1\" class=\"dataframe\">\n",
              "  <thead>\n",
              "    <tr style=\"text-align: right;\">\n",
              "      <th></th>\n",
              "      <th>gr17</th>\n",
              "      <th>a280</th>\n",
              "      <th>ch150</th>\n",
              "      <th>bays29</th>\n",
              "      <th>fl417</th>\n",
              "      <th>att48</th>\n",
              "    </tr>\n",
              "  </thead>\n",
              "  <tbody>\n",
              "    <tr>\n",
              "      <th>Weight</th>\n",
              "      <td>2491.0</td>\n",
              "      <td>2818.621637</td>\n",
              "      <td>45292.584585</td>\n",
              "      <td>4020.0</td>\n",
              "      <td>55387.192585</td>\n",
              "      <td>34141.0</td>\n",
              "    </tr>\n",
              "    <tr>\n",
              "      <th>True answer</th>\n",
              "      <td>2085.0</td>\n",
              "      <td>2579.0</td>\n",
              "      <td>6528.0</td>\n",
              "      <td>2020.0</td>\n",
              "      <td>11861.0</td>\n",
              "      <td>10628.0</td>\n",
              "    </tr>\n",
              "    <tr>\n",
              "      <th>Time</th>\n",
              "      <td>2208.527761</td>\n",
              "      <td>2605.435931</td>\n",
              "      <td>2309.991053</td>\n",
              "      <td>2177.366926</td>\n",
              "      <td>3235.97283</td>\n",
              "      <td>2347.727555</td>\n",
              "    </tr>\n",
              "    <tr>\n",
              "      <th>Way</th>\n",
              "      <td>[3, 7, 13, 5, 4, 9, 1, 10, 2, 14, 16, 6, 0, 15...</td>\n",
              "      <td>[0, 1, 2, 3, 4, 5, 6, 7, 8, 9, 10, 11, 12, 13,...</td>\n",
              "      <td>[17, 92, 99, 135, 22, 109, 27, 94, 42, 147, 13...</td>\n",
              "      <td>[15, 18, 10, 21, 13, 16, 17, 22, 20, 27, 26, 6...</td>\n",
              "      <td>[0, 1, 2, 3, 4, 5, 6, 7, 8, 9, 10, 11, 12, 13,...</td>\n",
              "      <td>[3, 47, 12, 31, 10, 16, 2, 46, 14, 11, 21, 38,...</td>\n",
              "    </tr>\n",
              "  </tbody>\n",
              "</table>\n",
              "</div>\n",
              "      <button class=\"colab-df-convert\" onclick=\"convertToInteractive('df-a6e1f1b0-206d-4228-a585-c69166a3b00b')\"\n",
              "              title=\"Convert this dataframe to an interactive table.\"\n",
              "              style=\"display:none;\">\n",
              "        \n",
              "  <svg xmlns=\"http://www.w3.org/2000/svg\" height=\"24px\"viewBox=\"0 0 24 24\"\n",
              "       width=\"24px\">\n",
              "    <path d=\"M0 0h24v24H0V0z\" fill=\"none\"/>\n",
              "    <path d=\"M18.56 5.44l.94 2.06.94-2.06 2.06-.94-2.06-.94-.94-2.06-.94 2.06-2.06.94zm-11 1L8.5 8.5l.94-2.06 2.06-.94-2.06-.94L8.5 2.5l-.94 2.06-2.06.94zm10 10l.94 2.06.94-2.06 2.06-.94-2.06-.94-.94-2.06-.94 2.06-2.06.94z\"/><path d=\"M17.41 7.96l-1.37-1.37c-.4-.4-.92-.59-1.43-.59-.52 0-1.04.2-1.43.59L10.3 9.45l-7.72 7.72c-.78.78-.78 2.05 0 2.83L4 21.41c.39.39.9.59 1.41.59.51 0 1.02-.2 1.41-.59l7.78-7.78 2.81-2.81c.8-.78.8-2.07 0-2.86zM5.41 20L4 18.59l7.72-7.72 1.47 1.35L5.41 20z\"/>\n",
              "  </svg>\n",
              "      </button>\n",
              "      \n",
              "  <style>\n",
              "    .colab-df-container {\n",
              "      display:flex;\n",
              "      flex-wrap:wrap;\n",
              "      gap: 12px;\n",
              "    }\n",
              "\n",
              "    .colab-df-convert {\n",
              "      background-color: #E8F0FE;\n",
              "      border: none;\n",
              "      border-radius: 50%;\n",
              "      cursor: pointer;\n",
              "      display: none;\n",
              "      fill: #1967D2;\n",
              "      height: 32px;\n",
              "      padding: 0 0 0 0;\n",
              "      width: 32px;\n",
              "    }\n",
              "\n",
              "    .colab-df-convert:hover {\n",
              "      background-color: #E2EBFA;\n",
              "      box-shadow: 0px 1px 2px rgba(60, 64, 67, 0.3), 0px 1px 3px 1px rgba(60, 64, 67, 0.15);\n",
              "      fill: #174EA6;\n",
              "    }\n",
              "\n",
              "    [theme=dark] .colab-df-convert {\n",
              "      background-color: #3B4455;\n",
              "      fill: #D2E3FC;\n",
              "    }\n",
              "\n",
              "    [theme=dark] .colab-df-convert:hover {\n",
              "      background-color: #434B5C;\n",
              "      box-shadow: 0px 1px 3px 1px rgba(0, 0, 0, 0.15);\n",
              "      filter: drop-shadow(0px 1px 2px rgba(0, 0, 0, 0.3));\n",
              "      fill: #FFFFFF;\n",
              "    }\n",
              "  </style>\n",
              "\n",
              "      <script>\n",
              "        const buttonEl =\n",
              "          document.querySelector('#df-a6e1f1b0-206d-4228-a585-c69166a3b00b button.colab-df-convert');\n",
              "        buttonEl.style.display =\n",
              "          google.colab.kernel.accessAllowed ? 'block' : 'none';\n",
              "\n",
              "        async function convertToInteractive(key) {\n",
              "          const element = document.querySelector('#df-a6e1f1b0-206d-4228-a585-c69166a3b00b');\n",
              "          const dataTable =\n",
              "            await google.colab.kernel.invokeFunction('convertToInteractive',\n",
              "                                                     [key], {});\n",
              "          if (!dataTable) return;\n",
              "\n",
              "          const docLinkHtml = 'Like what you see? Visit the ' +\n",
              "            '<a target=\"_blank\" href=https://colab.research.google.com/notebooks/data_table.ipynb>data table notebook</a>'\n",
              "            + ' to learn more about interactive tables.';\n",
              "          element.innerHTML = '';\n",
              "          dataTable['output_type'] = 'display_data';\n",
              "          await google.colab.output.renderOutput(dataTable, element);\n",
              "          const docLink = document.createElement('div');\n",
              "          docLink.innerHTML = docLinkHtml;\n",
              "          element.appendChild(docLink);\n",
              "        }\n",
              "      </script>\n",
              "    </div>\n",
              "  </div>\n",
              "  "
            ]
          },
          "metadata": {},
          "execution_count": 4
        }
      ]
    },
    {
      "cell_type": "code",
      "source": [
        "for i in way_salesman:\n",
        "    print(i)"
      ],
      "metadata": {
        "colab": {
          "base_uri": "https://localhost:8080/"
        },
        "id": "oex0IBHvaV6H",
        "outputId": "2a239887-ede6-4014-ca19-ef51b13b18cb"
      },
      "execution_count": 5,
      "outputs": [
        {
          "output_type": "stream",
          "name": "stdout",
          "text": [
            "[3, 7, 13, 5, 4, 9, 1, 10, 2, 14, 16, 6, 0, 15, 11, 8, 12]\n",
            "[0, 1, 2, 3, 4, 5, 6, 7, 8, 9, 10, 11, 12, 13, 14, 15, 16, 17, 18, 19, 20, 21, 22, 23, 24, 25, 26, 27, 28, 29, 30, 31, 32, 33, 34, 35, 36, 37, 38, 39, 40, 41, 42, 43, 44, 45, 46, 47, 48, 49, 50, 51, 52, 53, 54, 55, 56, 57, 58, 59, 60, 61, 62, 63, 64, 65, 66, 67, 68, 69, 70, 71, 72, 73, 74, 75, 76, 77, 78, 79, 80, 81, 82, 83, 84, 85, 86, 87, 88, 89, 90, 91, 92, 93, 94, 95, 96, 97, 98, 99, 100, 101, 102, 103, 104, 105, 106, 107, 108, 109, 110, 111, 112, 113, 114, 115, 116, 117, 118, 119, 120, 121, 122, 123, 124, 125, 126, 127, 128, 129, 130, 131, 132, 133, 134, 135, 136, 137, 138, 139, 140, 141, 142, 143, 144, 145, 146, 147, 148, 149, 150, 151, 152, 153, 154, 155, 156, 157, 158, 159, 160, 161, 162, 163, 164, 165, 166, 167, 168, 169, 170, 171, 172, 173, 174, 175, 176, 177, 178, 179, 180, 181, 182, 183, 184, 185, 186, 187, 188, 189, 190, 191, 192, 193, 194, 195, 196, 197, 198, 199, 200, 201, 202, 203, 204, 205, 206, 207, 208, 209, 210, 211, 212, 213, 214, 215, 216, 217, 218, 219, 220, 221, 222, 223, 224, 225, 226, 227, 228, 229, 230, 231, 232, 233, 234, 235, 236, 237, 238, 239, 240, 241, 242, 243, 244, 245, 246, 247, 248, 249, 250, 251, 252, 253, 254, 255, 256, 257, 258, 259, 260, 261, 262, 263, 264, 265, 266, 267, 268, 269, 270, 271, 272, 273, 274, 275, 276, 277, 278, 279]\n",
            "[17, 92, 99, 135, 22, 109, 27, 94, 42, 147, 136, 79, 139, 138, 45, 72, 89, 74, 131, 54, 119, 8, 48, 101, 1, 36, 67, 111, 30, 95, 55, 31, 66, 102, 11, 128, 105, 115, 37, 126, 103, 64, 121, 106, 61, 88, 6, 21, 43, 100, 85, 107, 82, 125, 96, 52, 15, 120, 90, 149, 148, 7, 142, 98, 140, 56, 40, 97, 39, 124, 49, 50, 5, 10, 122, 35, 104, 57, 134, 69, 46, 91, 26, 23, 38, 129, 34, 41, 68, 116, 47, 29, 28, 78, 87, 84, 143, 118, 114, 108, 110, 33, 145, 113, 80, 144, 32, 51, 123, 58, 2, 19, 59, 4, 137, 71, 63, 73, 77, 9, 130, 81, 75, 117, 112, 3, 25, 0, 12, 14, 16, 141, 53, 133, 65, 60, 24, 20, 146, 18, 13, 86, 93, 132, 76, 127, 70, 44, 83, 62]\n",
            "[15, 18, 10, 21, 13, 16, 17, 22, 20, 27, 26, 6, 23, 1, 8, 4, 11, 3, 14, 28, 2, 25, 9, 12, 7, 24, 0, 5, 19]\n",
            "[0, 1, 2, 3, 4, 5, 6, 7, 8, 9, 10, 11, 12, 13, 14, 15, 16, 17, 18, 19, 20, 21, 22, 23, 24, 25, 26, 27, 28, 29, 30, 31, 32, 33, 34, 35, 36, 37, 38, 39, 40, 41, 42, 43, 44, 45, 46, 47, 48, 49, 50, 51, 52, 53, 54, 55, 56, 57, 58, 59, 60, 61, 62, 63, 64, 65, 66, 67, 68, 69, 70, 71, 72, 73, 74, 75, 76, 77, 78, 79, 80, 81, 82, 83, 84, 85, 86, 87, 88, 89, 90, 91, 92, 93, 94, 95, 96, 97, 98, 99, 100, 101, 102, 103, 104, 105, 106, 107, 108, 109, 110, 111, 112, 113, 114, 115, 116, 117, 118, 119, 120, 121, 122, 123, 124, 125, 126, 127, 128, 129, 130, 131, 132, 133, 134, 135, 136, 137, 138, 139, 140, 141, 142, 143, 144, 145, 146, 147, 148, 149, 150, 151, 152, 153, 154, 155, 156, 157, 158, 159, 160, 161, 162, 163, 164, 165, 166, 167, 168, 169, 170, 171, 172, 173, 174, 175, 176, 177, 178, 179, 180, 181, 182, 183, 184, 185, 186, 187, 188, 189, 190, 191, 192, 193, 194, 195, 196, 197, 198, 199, 200, 201, 202, 203, 204, 205, 206, 207, 208, 209, 210, 211, 212, 213, 214, 215, 216, 217, 218, 219, 220, 221, 222, 223, 224, 225, 226, 227, 228, 229, 230, 231, 232, 233, 234, 235, 236, 237, 238, 239, 240, 241, 242, 243, 244, 245, 246, 247, 248, 249, 250, 251, 252, 253, 254, 255, 256, 257, 258, 259, 260, 261, 262, 263, 264, 265, 266, 267, 268, 269, 270, 271, 272, 273, 274, 275, 276, 277, 278, 279, 280, 281, 282, 283, 284, 285, 286, 287, 288, 289, 290, 291, 292, 293, 294, 295, 296, 297, 298, 299, 300, 301, 302, 303, 304, 305, 306, 307, 308, 309, 310, 311, 312, 313, 314, 315, 316, 317, 318, 319, 320, 321, 322, 323, 324, 325, 326, 327, 328, 329, 330, 331, 332, 333, 334, 335, 336, 337, 338, 339, 340, 341, 342, 343, 344, 345, 346, 347, 348, 349, 350, 351, 352, 353, 354, 355, 356, 357, 358, 359, 360, 361, 362, 363, 364, 365, 366, 367, 368, 369, 370, 371, 372, 373, 374, 375, 376, 377, 378, 379, 380, 381, 382, 383, 384, 385, 386, 387, 388, 389, 390, 391, 392, 393, 394, 395, 396, 397, 398, 399, 400, 401, 402, 403, 404, 405, 406, 407, 408, 409, 410, 411, 412, 413, 414, 415, 416]\n",
            "[3, 47, 12, 31, 10, 16, 2, 46, 14, 11, 21, 38, 20, 30, 42, 45, 27, 43, 0, 22, 15, 17, 6, 36, 19, 7, 18, 13, 24, 8, 37, 32, 26, 5, 29, 44, 41, 23, 25, 28, 39, 33, 40, 1, 34, 9, 4, 35]\n"
          ]
        }
      ]
    }
  ]
}